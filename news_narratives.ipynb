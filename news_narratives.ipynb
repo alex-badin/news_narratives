{
  "cells": [
    {
      "cell_type": "code",
      "execution_count": 77,
      "metadata": {
        "colab": {
          "base_uri": "https://localhost:8080/"
        },
        "id": "_973q16E16oj",
        "outputId": "adeaa6d7-e213-4874-dc2b-29b15782d814"
      },
      "outputs": [
        {
          "name": "stderr",
          "output_type": "stream",
          "text": [
            "[nltk_data] Downloading package stopwords to\n",
            "[nltk_data]     /Users/oslikdau/nltk_data...\n",
            "[nltk_data]   Package stopwords is already up-to-date!\n"
          ]
        },
        {
          "data": {
            "text/plain": [
              "True"
            ]
          },
          "execution_count": 77,
          "metadata": {},
          "output_type": "execute_result"
        }
      ],
      "source": [
        "import pandas as pd\n",
        "import re\n",
        "from tqdm import tqdm\n",
        "\n",
        "from nltk.corpus import stopwords\n",
        "from string import punctuation\n",
        "\n",
        "import pymorphy2\n",
        "from pymorphy2.tokenizers import simple_word_tokenize\n",
        "# from razdel import tokenize\n",
        "\n",
        "import nltk\n",
        "nltk.download('stopwords')"
      ]
    },
    {
      "cell_type": "markdown",
      "metadata": {
        "id": "nyudHO6zBcDl"
      },
      "source": [
        "## load functions"
      ]
    },
    {
      "cell_type": "code",
      "execution_count": null,
      "metadata": {
        "id": "XIbDezFS_Ci9"
      },
      "outputs": [],
      "source": [
        "def clean_text_old(newtext):\n",
        "  newtext = str(newtext)\n",
        "  stopwords = [\n",
        "  \"'type': 'bold'\"\n",
        "  ,\"'type': 'italic'\"\n",
        "  , \"'type': 'mention', 'text': '@lentadnya'\"\n",
        "  ,\"'href': \" #убрать весь адрес http\n",
        "  ,\"'type': 'text_link'\"\n",
        "  ,\"'text':\"\n",
        "  ,\"{\" ,\"}\"\n",
        "  ,', ,'\n",
        "  , \"[\", \"]\"\n",
        "  , \"'\"\n",
        "  ]\n",
        "\n",
        "  for stopword in stopwords:\n",
        "    newtext = newtext.replace(stopword, \"\")\n",
        "\n",
        "  replace_spaces =[\"\\\\n\", \"  \", \", \", \"\\\\xa0\"]\n",
        "  for replace_space in replace_spaces:\n",
        "    newtext = newtext.replace(replace_space, \" \")\n",
        "\n",
        "  # лишние пробелы похоже не влияют на предсказания модели. Зато эмоджи влияют. Оставляем только текстовые знаки и препинания.\n",
        "  newtext = re.sub('[^А-Яа-яЁёA-Za-z0-9 _.,!-—?\"«»]*', \"\", newtext)\n",
        "\n",
        "  newtext = newtext.replace('ДАННОЕ СООБЩЕНИЕ (МАТЕРИАЛ) СОЗДАНО И (ИЛИ) РАСПРОСТРАНЕНО ИНОСТРАННЫМ СРЕДСТВОМ МАССОВОЙ ИНФОРМАЦИИ ВЫПОЛНЯЮЩИМ ФУНКЦИИ ИНОСТРАННОГО АГЕНТА И (ИЛИ) РОССИЙСКИМ ЮРИДИЧЕСКИМ ЛИЦОМ ВЫПОЛНЯЮЩИМ ФУНКЦИИ ИНОСТРАННОГО АГЕНТА'\\\n",
        "                            , '')\n",
        "\n",
        "  return newtext"
      ]
    },
    {
      "cell_type": "code",
      "execution_count": 98,
      "metadata": {
        "id": "7oZDNDidnLnQ"
      },
      "outputs": [],
      "source": [
        "morph = pymorphy2.MorphAnalyzer()\n",
        "ALLOWED_POS_TAGS = {'NOUN', 'ADJF', 'ADJS', 'VERB', 'INFN', 'PRTF', 'GRND', 'PRTS', 'ADVB'}\n",
        "\n",
        "def clean_text(newtext):\n",
        "  newtext = str(newtext)\n",
        "\n",
        "  replace_spaces =[\"\\\\n\", \"  \", \", \", \"\\\\xa0\"]\n",
        "  \n",
        "  for replace_space in replace_spaces:\n",
        "    newtext = newtext.replace(replace_space, \" \")\n",
        "\n",
        "  newtext = newtext.replace('ДАННОЕ СООБЩЕНИЕ (МАТЕРИАЛ) СОЗДАНО И (ИЛИ) РАСПРОСТРАНЕНО ИНОСТРАННЫМ СРЕДСТВОМ МАССОВОЙ ИНФОРМАЦИИ ВЫПОЛНЯЮЩИМ ФУНКЦИИ ИНОСТРАННОГО АГЕНТА И (ИЛИ) РОССИЙСКИМ ЮРИДИЧЕСКИМ ЛИЦОМ ВЫПОЛНЯЮЩИМ ФУНКЦИИ ИНОСТРАННОГО АГЕНТА'\\\n",
        "                            , '')\n",
        "\n",
        "  current_tokens = simple_word_tokenize(newtext)\n",
        "  current_pos_filtered_lemmata = []\n",
        "  for token in current_tokens:\n",
        "      parsed = morph.parse(token)[0]\n",
        "      if parsed.tag.POS in ALLOWED_POS_TAGS:\n",
        "          current_pos_filtered_lemmata.append(parsed.normal_form)\n",
        "\n",
        "  newtext = ' '.join(current_pos_filtered_lemmata)\n",
        "\n",
        "  return newtext"
      ]
    },
    {
      "cell_type": "code",
      "execution_count": 99,
      "metadata": {
        "id": "BBJRVXcI_DW1"
      },
      "outputs": [],
      "source": [
        "# def filter_war_texts(df_test):\n",
        "#   df_war_news = df_test[\n",
        "#         (df_test['text'].str.contains('воен|войн|спецоперац|обстрел|арм|СВО', case=False)) \n",
        "#         & ~(df_test['text'].str.contains('Главное к утру|Главные события|Главные новости', case=True)) #убираем сводки/дайджесты из нескольких новостей\n",
        "#         & (df_test['text'].str.contains('укр|ВСУ|Азов', case=False))\n",
        "#         ]\n",
        "#   return df_war_news\n",
        "\n",
        "def read_clean_json_news(file_path, date_from='2022-01-01'):\n",
        "  # read json-file to dataframe\n",
        "  df_js = pd.read_json(file_path)\n",
        "  df_full = pd.DataFrame(df_js['messages'].tolist())\n",
        "  df_full = df_full[['id', 'date', 'text']]\n",
        "  df_full['date'] = pd.to_datetime(df_full['date'])\n",
        "  # select specific dates\n",
        "  df_test = df_full[df_full['date'] > date_from]\n",
        "  # filter news by key words\n",
        "  # df_test = filter_war_texts(df_test)\n",
        "  # clean news texts and put into 'news' column\n",
        "  df_test['news'] = df_test.apply(lambda row: clean_text(row['text']), axis=1)\n",
        "  df_test.drop('text', axis=1, inplace=True)\n",
        "  # clean of empty news\n",
        "  df_test = df_test[df_test['news'].str.len()>5]\n",
        "  return df_test"
      ]
    },
    {
      "cell_type": "code",
      "execution_count": 100,
      "metadata": {
        "id": "aiuBUpOeDD0G"
      },
      "outputs": [],
      "source": [
        "def filter_war_news(df_test):\n",
        "  df_war_news = df_test[\n",
        "        (df_test['news'].str.contains('воен|войн|спецоперац|обстрел|арм|СВО', case=False)) \n",
        "        & ~(df_test['news'].str.contains('Главное к утру|Главные события|Главные новости', case=True)) #убираем сводки/дайджесты из нескольких новостей\n",
        "        & (df_test['news'].str.contains('укр|ВСУ|Азов', case=False))\n",
        "        ]\n",
        "  return df_war_news"
      ]
    },
    {
      "cell_type": "markdown",
      "metadata": {
        "id": "nadqfHyhBfIu"
      },
      "source": [
        "## get texts ready"
      ]
    },
    {
      "cell_type": "code",
      "execution_count": 22,
      "metadata": {
        "colab": {
          "base_uri": "https://localhost:8080/"
        },
        "id": "QjcLBgQPBZs1",
        "outputId": "9eac9e10-dc6b-4605-95d5-2d640da4f4de"
      },
      "outputs": [
        {
          "name": "stdout",
          "output_type": "stream",
          "text": [
            "Drive already mounted at /content/drive; to attempt to forcibly remount, call drive.mount(\"/content/drive\", force_remount=True).\n"
          ]
        }
      ],
      "source": [
        "# from google.colab import drive\n",
        "# drive.mount('/content/drive')"
      ]
    },
    {
      "cell_type": "code",
      "execution_count": 101,
      "metadata": {
        "colab": {
          "base_uri": "https://localhost:8080/",
          "height": 866
        },
        "id": "6R2mDthBBlOV",
        "outputId": "cf9a9b06-78fb-4557-a90f-d677ac233222"
      },
      "outputs": [],
      "source": [
        "# 1) NEWS LOAD & PRER\n",
        "# PARAMETERS\n",
        "paths = [\n",
        "        'news TG channels/meduza - from jan22.json',\n",
        "        'news TG channels/rt.com - from jan22.json',\n",
        "        'news TG channels/bbc - from jan22.json',\n",
        "        'news TG channels/ria - from jan22.json'\n",
        "        ]\n",
        "date_from = '2022-02-24'\n",
        "\n",
        "df_news_list = []\n",
        "for path in paths:\n",
        "  df_news_ = read_clean_json_news(path, date_from)\n",
        "  name_position = path.find('channels/') + len('channels/')\n",
        "  source_name = path[name_position:name_position+3]\n",
        "  df_news_['source'] = source_name\n",
        "  df_news_list.append(df_news_)\n",
        "\n",
        "df_news = pd.concat(df_news_list, axis=0)\n",
        "\n",
        "df_war_news = filter_war_news(df_news) # run this to filter by key words on war & remove digests"
      ]
    },
    {
      "cell_type": "code",
      "execution_count": 102,
      "metadata": {
        "colab": {
          "base_uri": "https://localhost:8080/"
        },
        "id": "v9DJYv0PTr01",
        "outputId": "d382436d-f4ca-430b-b7be-9572c47a84bb"
      },
      "outputs": [
        {
          "data": {
            "text/plain": [
              "(46820, 12727)"
            ]
          },
          "execution_count": 102,
          "metadata": {},
          "output_type": "execute_result"
        }
      ],
      "source": [
        "len(df_news), len(df_war_news)"
      ]
    },
    {
      "cell_type": "code",
      "execution_count": 103,
      "metadata": {
        "id": "Bqz8ib0jJ7sn"
      },
      "outputs": [],
      "source": [
        "df_news.reset_index(inplace=True)\n",
        "df_war_news.reset_index(inplace=True)"
      ]
    },
    {
      "cell_type": "code",
      "execution_count": 104,
      "metadata": {
        "id": "MA-GDd-5DceB"
      },
      "outputs": [
        {
          "data": {
            "text/html": [
              "<div>\n",
              "<style scoped>\n",
              "    .dataframe tbody tr th:only-of-type {\n",
              "        vertical-align: middle;\n",
              "    }\n",
              "\n",
              "    .dataframe tbody tr th {\n",
              "        vertical-align: top;\n",
              "    }\n",
              "\n",
              "    .dataframe thead th {\n",
              "        text-align: right;\n",
              "    }\n",
              "</style>\n",
              "<table border=\"1\" class=\"dataframe\">\n",
              "  <thead>\n",
              "    <tr style=\"text-align: right;\">\n",
              "      <th></th>\n",
              "      <th>index</th>\n",
              "      <th>id</th>\n",
              "      <th>date</th>\n",
              "      <th>news</th>\n",
              "      <th>source</th>\n",
              "    </tr>\n",
              "  </thead>\n",
              "  <tbody>\n",
              "    <tr>\n",
              "      <th>0</th>\n",
              "      <td>1875</td>\n",
              "      <td>51666</td>\n",
              "      <td>2022-02-24 01:11:48</td>\n",
              "      <td>пентагон считать российский войско прибывать т...</td>\n",
              "      <td>med</td>\n",
              "    </tr>\n",
              "    <tr>\n",
              "      <th>1</th>\n",
              "      <td>1876</td>\n",
              "      <td>51667</td>\n",
              "      <td>2022-02-24 01:19:32</td>\n",
              "      <td>украина запросить срочный заседание совбез оон...</td>\n",
              "      <td>med</td>\n",
              "    </tr>\n",
              "    <tr>\n",
              "      <th>2</th>\n",
              "      <td>1877</td>\n",
              "      <td>51668</td>\n",
              "      <td>2022-02-24 01:42:09</td>\n",
              "      <td>мобильный связь республиканский оператор феник...</td>\n",
              "      <td>med</td>\n",
              "    </tr>\n",
              "    <tr>\n",
              "      <th>3</th>\n",
              "      <td>1878</td>\n",
              "      <td>51669</td>\n",
              "      <td>2022-02-24 02:18:25</td>\n",
              "      <td>президент украина владимир зеленский выступить...</td>\n",
              "      <td>med</td>\n",
              "    </tr>\n",
              "    <tr>\n",
              "      <th>4</th>\n",
              "      <td>1879</td>\n",
              "      <td>51670</td>\n",
              "      <td>2022-02-24 02:20:21</td>\n",
              "      <td>санкция ес признание россия днр вступить сила ...</td>\n",
              "      <td>med</td>\n",
              "    </tr>\n",
              "  </tbody>\n",
              "</table>\n",
              "</div>"
            ],
            "text/plain": [
              "   index     id                date  \\\n",
              "0   1875  51666 2022-02-24 01:11:48   \n",
              "1   1876  51667 2022-02-24 01:19:32   \n",
              "2   1877  51668 2022-02-24 01:42:09   \n",
              "3   1878  51669 2022-02-24 02:18:25   \n",
              "4   1879  51670 2022-02-24 02:20:21   \n",
              "\n",
              "                                                news source  \n",
              "0  пентагон считать российский войско прибывать т...    med  \n",
              "1  украина запросить срочный заседание совбез оон...    med  \n",
              "2  мобильный связь республиканский оператор феник...    med  \n",
              "3  президент украина владимир зеленский выступить...    med  \n",
              "4  санкция ес признание россия днр вступить сила ...    med  "
            ]
          },
          "execution_count": 104,
          "metadata": {},
          "output_type": "execute_result"
        }
      ],
      "source": [
        "df_news.head(5)"
      ]
    },
    {
      "cell_type": "code",
      "execution_count": 105,
      "metadata": {},
      "outputs": [
        {
          "data": {
            "text/html": [
              "<div>\n",
              "<style scoped>\n",
              "    .dataframe tbody tr th:only-of-type {\n",
              "        vertical-align: middle;\n",
              "    }\n",
              "\n",
              "    .dataframe tbody tr th {\n",
              "        vertical-align: top;\n",
              "    }\n",
              "\n",
              "    .dataframe thead th {\n",
              "        text-align: right;\n",
              "    }\n",
              "</style>\n",
              "<table border=\"1\" class=\"dataframe\">\n",
              "  <thead>\n",
              "    <tr style=\"text-align: right;\">\n",
              "      <th></th>\n",
              "      <th>index</th>\n",
              "      <th>id</th>\n",
              "      <th>date</th>\n",
              "      <th>news</th>\n",
              "      <th>source</th>\n",
              "    </tr>\n",
              "  </thead>\n",
              "  <tbody>\n",
              "    <tr>\n",
              "      <th>0</th>\n",
              "      <td>1876</td>\n",
              "      <td>51667</td>\n",
              "      <td>2022-02-24 01:19:32</td>\n",
              "      <td>украина запросить срочный заседание совбез оон...</td>\n",
              "      <td>med</td>\n",
              "    </tr>\n",
              "    <tr>\n",
              "      <th>1</th>\n",
              "      <td>1878</td>\n",
              "      <td>51669</td>\n",
              "      <td>2022-02-24 02:18:25</td>\n",
              "      <td>президент украина владимир зеленский выступить...</td>\n",
              "      <td>med</td>\n",
              "    </tr>\n",
              "    <tr>\n",
              "      <th>2</th>\n",
              "      <td>1881</td>\n",
              "      <td>51672</td>\n",
              "      <td>2022-02-24 03:11:18</td>\n",
              "      <td>полный расшифровка обращение президент украина...</td>\n",
              "      <td>med</td>\n",
              "    </tr>\n",
              "    <tr>\n",
              "      <th>3</th>\n",
              "      <td>1882</td>\n",
              "      <td>51673</td>\n",
              "      <td>2022-02-24 05:58:45</td>\n",
              "      <td>путин объявить начало военный операция донбасс...</td>\n",
              "      <td>med</td>\n",
              "    </tr>\n",
              "    <tr>\n",
              "      <th>4</th>\n",
              "      <td>1893</td>\n",
              "      <td>51684</td>\n",
              "      <td>2022-02-24 06:31:28</td>\n",
              "      <td>джо байден осудить действие россия слово амери...</td>\n",
              "      <td>med</td>\n",
              "    </tr>\n",
              "  </tbody>\n",
              "</table>\n",
              "</div>"
            ],
            "text/plain": [
              "   index     id                date  \\\n",
              "0   1876  51667 2022-02-24 01:19:32   \n",
              "1   1878  51669 2022-02-24 02:18:25   \n",
              "2   1881  51672 2022-02-24 03:11:18   \n",
              "3   1882  51673 2022-02-24 05:58:45   \n",
              "4   1893  51684 2022-02-24 06:31:28   \n",
              "\n",
              "                                                news source  \n",
              "0  украина запросить срочный заседание совбез оон...    med  \n",
              "1  президент украина владимир зеленский выступить...    med  \n",
              "2  полный расшифровка обращение президент украина...    med  \n",
              "3  путин объявить начало военный операция донбасс...    med  \n",
              "4  джо байден осудить действие россия слово амери...    med  "
            ]
          },
          "execution_count": 105,
          "metadata": {},
          "output_type": "execute_result"
        }
      ],
      "source": [
        "df_war_news.head(5)"
      ]
    },
    {
      "cell_type": "code",
      "execution_count": 106,
      "metadata": {
        "colab": {
          "base_uri": "https://localhost:8080/",
          "height": 166
        },
        "id": "yFqNsQ6zrcQj",
        "outputId": "fa46d4d0-617a-489c-cbf3-4e4355c78402"
      },
      "outputs": [
        {
          "data": {
            "text/plain": [
              "'украина запросить срочный заседание совбез оон связь обращение днр рф просьба оказать военный помощь сообщить глава мид украина кулеб'"
            ]
          },
          "execution_count": 106,
          "metadata": {},
          "output_type": "execute_result"
        }
      ],
      "source": [
        "df_war_news['news'][0]"
      ]
    },
    {
      "cell_type": "code",
      "execution_count": 107,
      "metadata": {},
      "outputs": [],
      "source": [
        "df_news.to_csv('df_news.csv')\n",
        "df_war_news.to_csv('df_war_news.csv')"
      ]
    },
    {
      "cell_type": "markdown",
      "metadata": {
        "id": "4nZ9ElnfDjD2"
      },
      "source": [
        "## BERTopic"
      ]
    },
    {
      "cell_type": "code",
      "execution_count": 108,
      "metadata": {
        "id": "ZuPpXEcyD7RH"
      },
      "outputs": [],
      "source": [
        "# Topic model\n",
        "from bertopic import BERTopic\n",
        "# Dimension reduction\n",
        "from umap import UMAP\n",
        "\n",
        "import pandas as pd"
      ]
    },
    {
      "attachments": {},
      "cell_type": "markdown",
      "metadata": {},
      "source": [
        "### War news"
      ]
    },
    {
      "cell_type": "code",
      "execution_count": 110,
      "metadata": {},
      "outputs": [],
      "source": [
        "df_news = pd.read_csv('df_news.csv', index_col=0)\n",
        "df_war_news = pd.read_csv('df_war_news.csv', index_col=0)"
      ]
    },
    {
      "cell_type": "code",
      "execution_count": 111,
      "metadata": {},
      "outputs": [
        {
          "data": {
            "text/plain": [
              "((46820, 5), (12727, 5))"
            ]
          },
          "execution_count": 111,
          "metadata": {},
          "output_type": "execute_result"
        }
      ],
      "source": [
        "df_news.shape, df_war_news.shape"
      ]
    },
    {
      "cell_type": "code",
      "execution_count": 112,
      "metadata": {},
      "outputs": [
        {
          "data": {
            "text/html": [
              "<div>\n",
              "<style scoped>\n",
              "    .dataframe tbody tr th:only-of-type {\n",
              "        vertical-align: middle;\n",
              "    }\n",
              "\n",
              "    .dataframe tbody tr th {\n",
              "        vertical-align: top;\n",
              "    }\n",
              "\n",
              "    .dataframe thead th {\n",
              "        text-align: right;\n",
              "    }\n",
              "</style>\n",
              "<table border=\"1\" class=\"dataframe\">\n",
              "  <thead>\n",
              "    <tr style=\"text-align: right;\">\n",
              "      <th></th>\n",
              "      <th>index</th>\n",
              "      <th>id</th>\n",
              "      <th>date</th>\n",
              "      <th>news</th>\n",
              "      <th>source</th>\n",
              "    </tr>\n",
              "  </thead>\n",
              "  <tbody>\n",
              "    <tr>\n",
              "      <th>0</th>\n",
              "      <td>1876</td>\n",
              "      <td>51667</td>\n",
              "      <td>2022-02-24 01:19:32</td>\n",
              "      <td>украина запросить срочный заседание совбез оон...</td>\n",
              "      <td>med</td>\n",
              "    </tr>\n",
              "    <tr>\n",
              "      <th>1</th>\n",
              "      <td>1878</td>\n",
              "      <td>51669</td>\n",
              "      <td>2022-02-24 02:18:25</td>\n",
              "      <td>президент украина владимир зеленский выступить...</td>\n",
              "      <td>med</td>\n",
              "    </tr>\n",
              "    <tr>\n",
              "      <th>2</th>\n",
              "      <td>1881</td>\n",
              "      <td>51672</td>\n",
              "      <td>2022-02-24 03:11:18</td>\n",
              "      <td>полный расшифровка обращение президент украина...</td>\n",
              "      <td>med</td>\n",
              "    </tr>\n",
              "    <tr>\n",
              "      <th>3</th>\n",
              "      <td>1882</td>\n",
              "      <td>51673</td>\n",
              "      <td>2022-02-24 05:58:45</td>\n",
              "      <td>путин объявить начало военный операция донбасс...</td>\n",
              "      <td>med</td>\n",
              "    </tr>\n",
              "    <tr>\n",
              "      <th>4</th>\n",
              "      <td>1893</td>\n",
              "      <td>51684</td>\n",
              "      <td>2022-02-24 06:31:28</td>\n",
              "      <td>джо байден осудить действие россия слово амери...</td>\n",
              "      <td>med</td>\n",
              "    </tr>\n",
              "    <tr>\n",
              "      <th>...</th>\n",
              "      <td>...</td>\n",
              "      <td>...</td>\n",
              "      <td>...</td>\n",
              "      <td>...</td>\n",
              "      <td>...</td>\n",
              "    </tr>\n",
              "    <tr>\n",
              "      <th>12722</th>\n",
              "      <td>27477</td>\n",
              "      <td>165025</td>\n",
              "      <td>2022-05-27 12:44:00</td>\n",
              "      <td>называть общий сумма ущерб днр преждевременно ...</td>\n",
              "      <td>ria</td>\n",
              "    </tr>\n",
              "    <tr>\n",
              "      <th>12723</th>\n",
              "      <td>27478</td>\n",
              "      <td>165026</td>\n",
              "      <td>2022-05-27 12:51:54</td>\n",
              "      <td>песок прокомментировать утверждение идея джонс...</td>\n",
              "      <td>ria</td>\n",
              "    </tr>\n",
              "    <tr>\n",
              "      <th>12724</th>\n",
              "      <td>27483</td>\n",
              "      <td>165031</td>\n",
              "      <td>2022-05-27 13:25:20</td>\n",
              "      <td>бастрыкин мариуполь провести совещание штаб ра...</td>\n",
              "      <td>ria</td>\n",
              "    </tr>\n",
              "    <tr>\n",
              "      <th>12725</th>\n",
              "      <td>27492</td>\n",
              "      <td>165040</td>\n",
              "      <td>2022-05-27 14:16:48</td>\n",
              "      <td>украинский военный отступать подорвать перепра...</td>\n",
              "      <td>ria</td>\n",
              "    </tr>\n",
              "    <tr>\n",
              "      <th>12726</th>\n",
              "      <td>27493</td>\n",
              "      <td>165041</td>\n",
              "      <td>2022-05-27 14:26:30</td>\n",
              "      <td>транспортный командование американский вооружё...</td>\n",
              "      <td>ria</td>\n",
              "    </tr>\n",
              "  </tbody>\n",
              "</table>\n",
              "<p>12727 rows × 5 columns</p>\n",
              "</div>"
            ],
            "text/plain": [
              "       index      id                 date  \\\n",
              "0       1876   51667  2022-02-24 01:19:32   \n",
              "1       1878   51669  2022-02-24 02:18:25   \n",
              "2       1881   51672  2022-02-24 03:11:18   \n",
              "3       1882   51673  2022-02-24 05:58:45   \n",
              "4       1893   51684  2022-02-24 06:31:28   \n",
              "...      ...     ...                  ...   \n",
              "12722  27477  165025  2022-05-27 12:44:00   \n",
              "12723  27478  165026  2022-05-27 12:51:54   \n",
              "12724  27483  165031  2022-05-27 13:25:20   \n",
              "12725  27492  165040  2022-05-27 14:16:48   \n",
              "12726  27493  165041  2022-05-27 14:26:30   \n",
              "\n",
              "                                                    news source  \n",
              "0      украина запросить срочный заседание совбез оон...    med  \n",
              "1      президент украина владимир зеленский выступить...    med  \n",
              "2      полный расшифровка обращение президент украина...    med  \n",
              "3      путин объявить начало военный операция донбасс...    med  \n",
              "4      джо байден осудить действие россия слово амери...    med  \n",
              "...                                                  ...    ...  \n",
              "12722  называть общий сумма ущерб днр преждевременно ...    ria  \n",
              "12723  песок прокомментировать утверждение идея джонс...    ria  \n",
              "12724  бастрыкин мариуполь провести совещание штаб ра...    ria  \n",
              "12725  украинский военный отступать подорвать перепра...    ria  \n",
              "12726  транспортный командование американский вооружё...    ria  \n",
              "\n",
              "[12727 rows x 5 columns]"
            ]
          },
          "execution_count": 112,
          "metadata": {},
          "output_type": "execute_result"
        }
      ],
      "source": [
        "df_war_news"
      ]
    },
    {
      "cell_type": "code",
      "execution_count": 113,
      "metadata": {
        "id": "dyrKaMtRDrvv"
      },
      "outputs": [],
      "source": [
        "# 13K mews = 26min\n",
        "# Initiate UMAP\n",
        "umap_model = UMAP(n_neighbors=15, \n",
        "                  n_components=5, \n",
        "                  min_dist=0.0, \n",
        "                  metric='cosine', \n",
        "                  random_state=100)\n",
        "# Initiate BERTopic\n",
        "topic_model = BERTopic(umap_model=umap_model, language=\"russian\", calculate_probabilities=True)\n",
        "# Run BERTopic model\n",
        "topics, probabilities = topic_model.fit_transform(df_war_news['news'])"
      ]
    },
    {
      "cell_type": "code",
      "execution_count": 115,
      "metadata": {
        "id": "Egdf6yE9KYte"
      },
      "outputs": [],
      "source": [
        "# topics\n",
        "df_war_news['topic'] = topics"
      ]
    },
    {
      "cell_type": "code",
      "execution_count": 116,
      "metadata": {
        "id": "Pipo6OTTMgeP"
      },
      "outputs": [],
      "source": [
        "df_war_news.to_excel('results/df_war_news_w_topics.xls')"
      ]
    },
    {
      "cell_type": "code",
      "execution_count": 117,
      "metadata": {
        "id": "KaAULUNtLoA0"
      },
      "outputs": [],
      "source": [
        "# Topics by sources\n",
        "# topic_by_source_perc = pd.crosstab(df_war_news['topic'], df_war_news['source']\n",
        "#             , margins=True\n",
        "#             , normalize='columns'\n",
        "#             ).sort_values('All', ascending=False)\n",
        "\n",
        "# absolutes\n",
        "topic_by_source_abs = pd.crosstab(df_war_news['topic'], df_war_news['source']\n",
        "            , margins=True\n",
        "            # , normalize='columns'\n",
        "            ).sort_values('All', ascending=False)"
      ]
    },
    {
      "cell_type": "code",
      "execution_count": 118,
      "metadata": {},
      "outputs": [],
      "source": [
        "topic_by_source_abs.drop('All', axis=0, inplace=True)"
      ]
    },
    {
      "cell_type": "code",
      "execution_count": 119,
      "metadata": {},
      "outputs": [
        {
          "data": {
            "text/html": [
              "<div>\n",
              "<style scoped>\n",
              "    .dataframe tbody tr th:only-of-type {\n",
              "        vertical-align: middle;\n",
              "    }\n",
              "\n",
              "    .dataframe tbody tr th {\n",
              "        vertical-align: top;\n",
              "    }\n",
              "\n",
              "    .dataframe thead th {\n",
              "        text-align: right;\n",
              "    }\n",
              "</style>\n",
              "<table border=\"1\" class=\"dataframe\">\n",
              "  <thead>\n",
              "    <tr style=\"text-align: right;\">\n",
              "      <th>source</th>\n",
              "      <th>bbc</th>\n",
              "      <th>med</th>\n",
              "      <th>ria</th>\n",
              "      <th>rt.</th>\n",
              "      <th>All</th>\n",
              "    </tr>\n",
              "    <tr>\n",
              "      <th>topic</th>\n",
              "      <th></th>\n",
              "      <th></th>\n",
              "      <th></th>\n",
              "      <th></th>\n",
              "      <th></th>\n",
              "    </tr>\n",
              "  </thead>\n",
              "  <tbody>\n",
              "    <tr>\n",
              "      <th>-1</th>\n",
              "      <td>1400</td>\n",
              "      <td>1421</td>\n",
              "      <td>982</td>\n",
              "      <td>2082</td>\n",
              "      <td>5885</td>\n",
              "    </tr>\n",
              "    <tr>\n",
              "      <th>0</th>\n",
              "      <td>105</td>\n",
              "      <td>94</td>\n",
              "      <td>78</td>\n",
              "      <td>105</td>\n",
              "      <td>382</td>\n",
              "    </tr>\n",
              "    <tr>\n",
              "      <th>1</th>\n",
              "      <td>74</td>\n",
              "      <td>94</td>\n",
              "      <td>72</td>\n",
              "      <td>98</td>\n",
              "      <td>338</td>\n",
              "    </tr>\n",
              "    <tr>\n",
              "      <th>2</th>\n",
              "      <td>87</td>\n",
              "      <td>79</td>\n",
              "      <td>47</td>\n",
              "      <td>108</td>\n",
              "      <td>321</td>\n",
              "    </tr>\n",
              "    <tr>\n",
              "      <th>3</th>\n",
              "      <td>112</td>\n",
              "      <td>105</td>\n",
              "      <td>13</td>\n",
              "      <td>38</td>\n",
              "      <td>268</td>\n",
              "    </tr>\n",
              "    <tr>\n",
              "      <th>...</th>\n",
              "      <td>...</td>\n",
              "      <td>...</td>\n",
              "      <td>...</td>\n",
              "      <td>...</td>\n",
              "      <td>...</td>\n",
              "    </tr>\n",
              "    <tr>\n",
              "      <th>135</th>\n",
              "      <td>3</td>\n",
              "      <td>4</td>\n",
              "      <td>1</td>\n",
              "      <td>3</td>\n",
              "      <td>11</td>\n",
              "    </tr>\n",
              "    <tr>\n",
              "      <th>136</th>\n",
              "      <td>4</td>\n",
              "      <td>3</td>\n",
              "      <td>2</td>\n",
              "      <td>2</td>\n",
              "      <td>11</td>\n",
              "    </tr>\n",
              "    <tr>\n",
              "      <th>137</th>\n",
              "      <td>1</td>\n",
              "      <td>0</td>\n",
              "      <td>1</td>\n",
              "      <td>9</td>\n",
              "      <td>11</td>\n",
              "    </tr>\n",
              "    <tr>\n",
              "      <th>138</th>\n",
              "      <td>0</td>\n",
              "      <td>0</td>\n",
              "      <td>1</td>\n",
              "      <td>10</td>\n",
              "      <td>11</td>\n",
              "    </tr>\n",
              "    <tr>\n",
              "      <th>139</th>\n",
              "      <td>0</td>\n",
              "      <td>0</td>\n",
              "      <td>0</td>\n",
              "      <td>10</td>\n",
              "      <td>10</td>\n",
              "    </tr>\n",
              "  </tbody>\n",
              "</table>\n",
              "<p>141 rows × 5 columns</p>\n",
              "</div>"
            ],
            "text/plain": [
              "source   bbc   med  ria   rt.   All\n",
              "topic                              \n",
              "-1      1400  1421  982  2082  5885\n",
              " 0       105    94   78   105   382\n",
              " 1        74    94   72    98   338\n",
              " 2        87    79   47   108   321\n",
              " 3       112   105   13    38   268\n",
              "...      ...   ...  ...   ...   ...\n",
              " 135       3     4    1     3    11\n",
              " 136       4     3    2     2    11\n",
              " 137       1     0    1     9    11\n",
              " 138       0     0    1    10    11\n",
              " 139       0     0    0    10    10\n",
              "\n",
              "[141 rows x 5 columns]"
            ]
          },
          "execution_count": 119,
          "metadata": {},
          "output_type": "execute_result"
        }
      ],
      "source": [
        "topic_by_source_abs"
      ]
    },
    {
      "cell_type": "code",
      "execution_count": 120,
      "metadata": {
        "colab": {
          "base_uri": "https://localhost:8080/",
          "height": 653
        },
        "collapsed": true,
        "id": "7YGpUluHETgw",
        "outputId": "2826d090-1645-46e5-8a65-9d9c0679df28"
      },
      "outputs": [
        {
          "data": {
            "text/html": [
              "<div>\n",
              "<style scoped>\n",
              "    .dataframe tbody tr th:only-of-type {\n",
              "        vertical-align: middle;\n",
              "    }\n",
              "\n",
              "    .dataframe tbody tr th {\n",
              "        vertical-align: top;\n",
              "    }\n",
              "\n",
              "    .dataframe thead th {\n",
              "        text-align: right;\n",
              "    }\n",
              "</style>\n",
              "<table border=\"1\" class=\"dataframe\">\n",
              "  <thead>\n",
              "    <tr style=\"text-align: right;\">\n",
              "      <th></th>\n",
              "      <th>Topic</th>\n",
              "      <th>Count</th>\n",
              "      <th>Name</th>\n",
              "    </tr>\n",
              "  </thead>\n",
              "  <tbody>\n",
              "    <tr>\n",
              "      <th>0</th>\n",
              "      <td>-1</td>\n",
              "      <td>5885</td>\n",
              "      <td>-1_украинский_украина_быть_россия</td>\n",
              "    </tr>\n",
              "    <tr>\n",
              "      <th>1</th>\n",
              "      <td>0</td>\n",
              "      <td>382</td>\n",
              "      <td>0_путин_кремль_президент_владимир</td>\n",
              "    </tr>\n",
              "    <tr>\n",
              "      <th>2</th>\n",
              "      <td>1</td>\n",
              "      <td>338</td>\n",
              "      <td>1_суд_преступление_уголовный_дело</td>\n",
              "    </tr>\n",
              "    <tr>\n",
              "      <th>3</th>\n",
              "      <td>2</td>\n",
              "      <td>321</td>\n",
              "      <td>2_рф_человек_быть_город</td>\n",
              "    </tr>\n",
              "    <tr>\n",
              "      <th>4</th>\n",
              "      <td>3</td>\n",
              "      <td>268</td>\n",
              "      <td>3_направление_генштаб_наступление_сводка</td>\n",
              "    </tr>\n",
              "    <tr>\n",
              "      <th>...</th>\n",
              "      <td>...</td>\n",
              "      <td>...</td>\n",
              "      <td>...</td>\n",
              "    </tr>\n",
              "    <tr>\n",
              "      <th>136</th>\n",
              "      <td>135</td>\n",
              "      <td>11</td>\n",
              "      <td>135_вышемирской_роддом_девушка_ролик</td>\n",
              "    </tr>\n",
              "    <tr>\n",
              "      <th>137</th>\n",
              "      <td>136</td>\n",
              "      <td>11</td>\n",
              "      <td>136_турецкий_турция_корабль_калин</td>\n",
              "    </tr>\n",
              "    <tr>\n",
              "      <th>138</th>\n",
              "      <td>137</td>\n",
              "      <td>11</td>\n",
              "      <td>137_вручить_орден_медаль_мужество</td>\n",
              "    </tr>\n",
              "    <tr>\n",
              "      <th>139</th>\n",
              "      <td>138</td>\n",
              "      <td>11</td>\n",
              "      <td>138_рота_противник_националист_лейтенант</td>\n",
              "    </tr>\n",
              "    <tr>\n",
              "      <th>140</th>\n",
              "      <td>139</td>\n",
              "      <td>10</td>\n",
              "      <td>139_чеченский_кадыров_рамзан_боец</td>\n",
              "    </tr>\n",
              "  </tbody>\n",
              "</table>\n",
              "<p>141 rows × 3 columns</p>\n",
              "</div>"
            ],
            "text/plain": [
              "     Topic  Count                                      Name\n",
              "0       -1   5885         -1_украинский_украина_быть_россия\n",
              "1        0    382         0_путин_кремль_президент_владимир\n",
              "2        1    338         1_суд_преступление_уголовный_дело\n",
              "3        2    321                   2_рф_человек_быть_город\n",
              "4        3    268  3_направление_генштаб_наступление_сводка\n",
              "..     ...    ...                                       ...\n",
              "136    135     11      135_вышемирской_роддом_девушка_ролик\n",
              "137    136     11         136_турецкий_турция_корабль_калин\n",
              "138    137     11         137_вручить_орден_медаль_мужество\n",
              "139    138     11  138_рота_противник_националист_лейтенант\n",
              "140    139     10         139_чеченский_кадыров_рамзан_боец\n",
              "\n",
              "[141 rows x 3 columns]"
            ]
          },
          "execution_count": 120,
          "metadata": {},
          "output_type": "execute_result"
        }
      ],
      "source": [
        "topic_model.get_topic_info()"
      ]
    },
    {
      "cell_type": "code",
      "execution_count": 121,
      "metadata": {},
      "outputs": [],
      "source": [
        "topic_by_source_abs = pd.merge(topic_by_source_abs, topic_model.get_topic_info()[['Topic','Name']], left_index=True, right_on='Topic')"
      ]
    },
    {
      "cell_type": "code",
      "execution_count": 122,
      "metadata": {},
      "outputs": [],
      "source": [
        "topic_by_source_abs.to_excel('results/sources_by_topics_abs.xls')"
      ]
    },
    {
      "cell_type": "code",
      "execution_count": 126,
      "metadata": {},
      "outputs": [
        {
          "data": {
            "text/html": [
              "<div>\n",
              "<style scoped>\n",
              "    .dataframe tbody tr th:only-of-type {\n",
              "        vertical-align: middle;\n",
              "    }\n",
              "\n",
              "    .dataframe tbody tr th {\n",
              "        vertical-align: top;\n",
              "    }\n",
              "\n",
              "    .dataframe thead th {\n",
              "        text-align: right;\n",
              "    }\n",
              "</style>\n",
              "<table border=\"1\" class=\"dataframe\">\n",
              "  <thead>\n",
              "    <tr style=\"text-align: right;\">\n",
              "      <th></th>\n",
              "      <th>bbc</th>\n",
              "      <th>med</th>\n",
              "      <th>ria</th>\n",
              "      <th>rt.</th>\n",
              "      <th>All</th>\n",
              "      <th>Topic</th>\n",
              "      <th>Name</th>\n",
              "    </tr>\n",
              "  </thead>\n",
              "  <tbody>\n",
              "    <tr>\n",
              "      <th>0</th>\n",
              "      <td>1400</td>\n",
              "      <td>1421</td>\n",
              "      <td>982</td>\n",
              "      <td>2082</td>\n",
              "      <td>5885</td>\n",
              "      <td>-1</td>\n",
              "      <td>-1_украинский_украина_быть_россия</td>\n",
              "    </tr>\n",
              "    <tr>\n",
              "      <th>1</th>\n",
              "      <td>105</td>\n",
              "      <td>94</td>\n",
              "      <td>78</td>\n",
              "      <td>105</td>\n",
              "      <td>382</td>\n",
              "      <td>0</td>\n",
              "      <td>0_путин_кремль_президент_владимир</td>\n",
              "    </tr>\n",
              "    <tr>\n",
              "      <th>2</th>\n",
              "      <td>74</td>\n",
              "      <td>94</td>\n",
              "      <td>72</td>\n",
              "      <td>98</td>\n",
              "      <td>338</td>\n",
              "      <td>1</td>\n",
              "      <td>1_суд_преступление_уголовный_дело</td>\n",
              "    </tr>\n",
              "  </tbody>\n",
              "</table>\n",
              "</div>"
            ],
            "text/plain": [
              "    bbc   med  ria   rt.   All Topic                               Name\n",
              "0  1400  1421  982  2082  5885    -1  -1_украинский_украина_быть_россия\n",
              "1   105    94   78   105   382     0  0_путин_кремль_президент_владимир\n",
              "2    74    94   72    98   338     1  1_суд_преступление_уголовный_дело"
            ]
          },
          "execution_count": 126,
          "metadata": {},
          "output_type": "execute_result"
        }
      ],
      "source": [
        "topic_by_source_abs.head(3)"
      ]
    },
    {
      "cell_type": "code",
      "execution_count": 127,
      "metadata": {},
      "outputs": [],
      "source": [
        "topic_by_source_abs['alt'] = topic_by_source_abs[['bbc','med']].sum(axis=1)\n",
        "topic_by_source_abs['prop'] = topic_by_source_abs[['ria','rt.']].sum(axis=1)\n",
        "topic_by_source_abs['prop_share'] = topic_by_source_abs['prop'] / topic_by_source_abs['All']"
      ]
    },
    {
      "cell_type": "code",
      "execution_count": 135,
      "metadata": {},
      "outputs": [
        {
          "data": {
            "text/html": [
              "<div>\n",
              "<style scoped>\n",
              "    .dataframe tbody tr th:only-of-type {\n",
              "        vertical-align: middle;\n",
              "    }\n",
              "\n",
              "    .dataframe tbody tr th {\n",
              "        vertical-align: top;\n",
              "    }\n",
              "\n",
              "    .dataframe thead th {\n",
              "        text-align: right;\n",
              "    }\n",
              "</style>\n",
              "<table border=\"1\" class=\"dataframe\">\n",
              "  <thead>\n",
              "    <tr style=\"text-align: right;\">\n",
              "      <th></th>\n",
              "      <th>bbc</th>\n",
              "      <th>med</th>\n",
              "      <th>ria</th>\n",
              "      <th>rt.</th>\n",
              "      <th>All</th>\n",
              "      <th>Topic</th>\n",
              "      <th>Name</th>\n",
              "      <th>alt</th>\n",
              "      <th>prop</th>\n",
              "      <th>prop_share</th>\n",
              "    </tr>\n",
              "  </thead>\n",
              "  <tbody>\n",
              "    <tr>\n",
              "      <th>45</th>\n",
              "      <td>24</td>\n",
              "      <td>14</td>\n",
              "      <td>3</td>\n",
              "      <td>1</td>\n",
              "      <td>42</td>\n",
              "      <td>44</td>\n",
              "      <td>44_оон_погибнуть_жертва_мирный</td>\n",
              "      <td>38</td>\n",
              "      <td>4</td>\n",
              "      <td>0.095238</td>\n",
              "    </tr>\n",
              "    <tr>\n",
              "      <th>13</th>\n",
              "      <td>54</td>\n",
              "      <td>42</td>\n",
              "      <td>2</td>\n",
              "      <td>9</td>\n",
              "      <td>107</td>\n",
              "      <td>12</td>\n",
              "      <td>12_беженец_миллион_млн_тысяча</td>\n",
              "      <td>96</td>\n",
              "      <td>11</td>\n",
              "      <td>0.102804</td>\n",
              "    </tr>\n",
              "    <tr>\n",
              "      <th>32</th>\n",
              "      <td>45</td>\n",
              "      <td>5</td>\n",
              "      <td>3</td>\n",
              "      <td>3</td>\n",
              "      <td>56</td>\n",
              "      <td>31</td>\n",
              "      <td>31_подкаст_день_война_любимый</td>\n",
              "      <td>50</td>\n",
              "      <td>6</td>\n",
              "      <td>0.107143</td>\n",
              "    </tr>\n",
              "    <tr>\n",
              "      <th>17</th>\n",
              "      <td>68</td>\n",
              "      <td>13</td>\n",
              "      <td>2</td>\n",
              "      <td>9</td>\n",
              "      <td>92</td>\n",
              "      <td>16</td>\n",
              "      <td>16_рубль_банк_валюта_компания</td>\n",
              "      <td>81</td>\n",
              "      <td>11</td>\n",
              "      <td>0.119565</td>\n",
              "    </tr>\n",
              "    <tr>\n",
              "      <th>8</th>\n",
              "      <td>65</td>\n",
              "      <td>61</td>\n",
              "      <td>11</td>\n",
              "      <td>11</td>\n",
              "      <td>148</td>\n",
              "      <td>7</td>\n",
              "      <td>7_потеря_погибнуть_би_гибель</td>\n",
              "      <td>126</td>\n",
              "      <td>22</td>\n",
              "      <td>0.148649</td>\n",
              "    </tr>\n",
              "    <tr>\n",
              "      <th>41</th>\n",
              "      <td>32</td>\n",
              "      <td>6</td>\n",
              "      <td>4</td>\n",
              "      <td>3</td>\n",
              "      <td>45</td>\n",
              "      <td>40</td>\n",
              "      <td>40_час_главное_день_российский</td>\n",
              "      <td>38</td>\n",
              "      <td>7</td>\n",
              "      <td>0.155556</td>\n",
              "    </tr>\n",
              "    <tr>\n",
              "      <th>23</th>\n",
              "      <td>29</td>\n",
              "      <td>34</td>\n",
              "      <td>4</td>\n",
              "      <td>8</td>\n",
              "      <td>75</td>\n",
              "      <td>22</td>\n",
              "      <td>22_ребёнок_погибнуть_ранение_пострадать</td>\n",
              "      <td>63</td>\n",
              "      <td>12</td>\n",
              "      <td>0.160000</td>\n",
              "    </tr>\n",
              "    <tr>\n",
              "      <th>29</th>\n",
              "      <td>44</td>\n",
              "      <td>8</td>\n",
              "      <td>7</td>\n",
              "      <td>4</td>\n",
              "      <td>63</td>\n",
              "      <td>28</td>\n",
              "      <td>28_британский_разведка_британия_великобритания</td>\n",
              "      <td>52</td>\n",
              "      <td>11</td>\n",
              "      <td>0.174603</td>\n",
              "    </tr>\n",
              "    <tr>\n",
              "      <th>18</th>\n",
              "      <td>33</td>\n",
              "      <td>41</td>\n",
              "      <td>12</td>\n",
              "      <td>5</td>\n",
              "      <td>91</td>\n",
              "      <td>17</td>\n",
              "      <td>17_компания_приостановить_бизнес_россия</td>\n",
              "      <td>74</td>\n",
              "      <td>17</td>\n",
              "      <td>0.186813</td>\n",
              "    </tr>\n",
              "    <tr>\n",
              "      <th>4</th>\n",
              "      <td>112</td>\n",
              "      <td>105</td>\n",
              "      <td>13</td>\n",
              "      <td>38</td>\n",
              "      <td>268</td>\n",
              "      <td>3</td>\n",
              "      <td>3_направление_генштаб_наступление_сводка</td>\n",
              "      <td>217</td>\n",
              "      <td>51</td>\n",
              "      <td>0.190299</td>\n",
              "    </tr>\n",
              "    <tr>\n",
              "      <th>48</th>\n",
              "      <td>22</td>\n",
              "      <td>11</td>\n",
              "      <td>2</td>\n",
              "      <td>6</td>\n",
              "      <td>41</td>\n",
              "      <td>47</td>\n",
              "      <td>47_институт_изучение_эксперт_наступление</td>\n",
              "      <td>33</td>\n",
              "      <td>8</td>\n",
              "      <td>0.195122</td>\n",
              "    </tr>\n",
              "    <tr>\n",
              "      <th>26</th>\n",
              "      <td>30</td>\n",
              "      <td>25</td>\n",
              "      <td>6</td>\n",
              "      <td>8</td>\n",
              "      <td>69</td>\n",
              "      <td>25</td>\n",
              "      <td>25_эвакуация_эвакуировать_коридор_мариуполь</td>\n",
              "      <td>55</td>\n",
              "      <td>14</td>\n",
              "      <td>0.202899</td>\n",
              "    </tr>\n",
              "    <tr>\n",
              "      <th>37</th>\n",
              "      <td>20</td>\n",
              "      <td>19</td>\n",
              "      <td>9</td>\n",
              "      <td>1</td>\n",
              "      <td>49</td>\n",
              "      <td>36</td>\n",
              "      <td>36_коридор_гуманитарный_верещука_открыть</td>\n",
              "      <td>39</td>\n",
              "      <td>10</td>\n",
              "      <td>0.204082</td>\n",
              "    </tr>\n",
              "    <tr>\n",
              "      <th>22</th>\n",
              "      <td>32</td>\n",
              "      <td>29</td>\n",
              "      <td>4</td>\n",
              "      <td>12</td>\n",
              "      <td>77</td>\n",
              "      <td>21</td>\n",
              "      <td>21_мэр_город_мелитополь_фёдоров</td>\n",
              "      <td>61</td>\n",
              "      <td>16</td>\n",
              "      <td>0.207792</td>\n",
              "    </tr>\n",
              "    <tr>\n",
              "      <th>27</th>\n",
              "      <td>12</td>\n",
              "      <td>41</td>\n",
              "      <td>1</td>\n",
              "      <td>14</td>\n",
              "      <td>68</td>\n",
              "      <td>26</td>\n",
              "      <td>26_песня_концерт_евровидение_театр</td>\n",
              "      <td>53</td>\n",
              "      <td>15</td>\n",
              "      <td>0.220588</td>\n",
              "    </tr>\n",
              "    <tr>\n",
              "      <th>16</th>\n",
              "      <td>41</td>\n",
              "      <td>37</td>\n",
              "      <td>5</td>\n",
              "      <td>18</td>\n",
              "      <td>101</td>\n",
              "      <td>15</td>\n",
              "      <td>15_тело_погибнуть_могила_буча</td>\n",
              "      <td>78</td>\n",
              "      <td>23</td>\n",
              "      <td>0.227723</td>\n",
              "    </tr>\n",
              "    <tr>\n",
              "      <th>39</th>\n",
              "      <td>22</td>\n",
              "      <td>12</td>\n",
              "      <td>5</td>\n",
              "      <td>8</td>\n",
              "      <td>47</td>\n",
              "      <td>38</td>\n",
              "      <td>38_церковь_православный_патриарх_кирилл</td>\n",
              "      <td>34</td>\n",
              "      <td>13</td>\n",
              "      <td>0.276596</td>\n",
              "    </tr>\n",
              "    <tr>\n",
              "      <th>5</th>\n",
              "      <td>51</td>\n",
              "      <td>77</td>\n",
              "      <td>16</td>\n",
              "      <td>33</td>\n",
              "      <td>177</td>\n",
              "      <td>4</td>\n",
              "      <td>4_роскомнадзор_заблокировать_сайт_удалить</td>\n",
              "      <td>128</td>\n",
              "      <td>49</td>\n",
              "      <td>0.276836</td>\n",
              "    </tr>\n",
              "    <tr>\n",
              "      <th>6</th>\n",
              "      <td>72</td>\n",
              "      <td>51</td>\n",
              "      <td>12</td>\n",
              "      <td>36</td>\n",
              "      <td>171</td>\n",
              "      <td>5</td>\n",
              "      <td>5_зеленский_президент_владимир_сказать</td>\n",
              "      <td>123</td>\n",
              "      <td>48</td>\n",
              "      <td>0.280702</td>\n",
              "    </tr>\n",
              "    <tr>\n",
              "      <th>11</th>\n",
              "      <td>16</td>\n",
              "      <td>18</td>\n",
              "      <td>35</td>\n",
              "      <td>51</td>\n",
              "      <td>120</td>\n",
              "      <td>10</td>\n",
              "      <td>10_район_сосредоточение_поразить_техника</td>\n",
              "      <td>34</td>\n",
              "      <td>86</td>\n",
              "      <td>0.716667</td>\n",
              "    </tr>\n",
              "    <tr>\n",
              "      <th>25</th>\n",
              "      <td>4</td>\n",
              "      <td>15</td>\n",
              "      <td>0</td>\n",
              "      <td>52</td>\n",
              "      <td>71</td>\n",
              "      <td>24</td>\n",
              "      <td>24_русский_писатель_язык_автор</td>\n",
              "      <td>19</td>\n",
              "      <td>52</td>\n",
              "      <td>0.732394</td>\n",
              "    </tr>\n",
              "    <tr>\n",
              "      <th>19</th>\n",
              "      <td>6</td>\n",
              "      <td>7</td>\n",
              "      <td>23</td>\n",
              "      <td>50</td>\n",
              "      <td>86</td>\n",
              "      <td>18</td>\n",
              "      <td>18_биологический_биолаборатория_лаборатория_сша</td>\n",
              "      <td>13</td>\n",
              "      <td>73</td>\n",
              "      <td>0.848837</td>\n",
              "    </tr>\n",
              "    <tr>\n",
              "      <th>28</th>\n",
              "      <td>3</td>\n",
              "      <td>1</td>\n",
              "      <td>2</td>\n",
              "      <td>58</td>\n",
              "      <td>64</td>\n",
              "      <td>27</td>\n",
              "      <td>27_лейтенант_противник_старший_националист</td>\n",
              "      <td>4</td>\n",
              "      <td>60</td>\n",
              "      <td>0.937500</td>\n",
              "    </tr>\n",
              "    <tr>\n",
              "      <th>21</th>\n",
              "      <td>4</td>\n",
              "      <td>1</td>\n",
              "      <td>3</td>\n",
              "      <td>76</td>\n",
              "      <td>84</td>\n",
              "      <td>20</td>\n",
              "      <td>20_военкор_азовсталь_азов_андрей</td>\n",
              "      <td>5</td>\n",
              "      <td>79</td>\n",
              "      <td>0.940476</td>\n",
              "    </tr>\n",
              "    <tr>\n",
              "      <th>12</th>\n",
              "      <td>3</td>\n",
              "      <td>3</td>\n",
              "      <td>4</td>\n",
              "      <td>102</td>\n",
              "      <td>112</td>\n",
              "      <td>11</td>\n",
              "      <td>11_дом_подвал_рассказать_жительница</td>\n",
              "      <td>6</td>\n",
              "      <td>106</td>\n",
              "      <td>0.946429</td>\n",
              "    </tr>\n",
              "    <tr>\n",
              "      <th>49</th>\n",
              "      <td>0</td>\n",
              "      <td>1</td>\n",
              "      <td>28</td>\n",
              "      <td>12</td>\n",
              "      <td>41</td>\n",
              "      <td>48</td>\n",
              "      <td>48_донецк_сцкк_обстрелять_представительство</td>\n",
              "      <td>1</td>\n",
              "      <td>40</td>\n",
              "      <td>0.975610</td>\n",
              "    </tr>\n",
              "    <tr>\n",
              "      <th>38</th>\n",
              "      <td>0</td>\n",
              "      <td>1</td>\n",
              "      <td>36</td>\n",
              "      <td>10</td>\n",
              "      <td>47</td>\n",
              "      <td>37</td>\n",
              "      <td>37_сложить_милиция_народный_добровольно</td>\n",
              "      <td>1</td>\n",
              "      <td>46</td>\n",
              "      <td>0.978723</td>\n",
              "    </tr>\n",
              "    <tr>\n",
              "      <th>36</th>\n",
              "      <td>0</td>\n",
              "      <td>0</td>\n",
              "      <td>15</td>\n",
              "      <td>37</td>\n",
              "      <td>52</td>\n",
              "      <td>35</td>\n",
              "      <td>35_бросить_сдаться_командование_плен</td>\n",
              "      <td>0</td>\n",
              "      <td>52</td>\n",
              "      <td>1.000000</td>\n",
              "    </tr>\n",
              "  </tbody>\n",
              "</table>\n",
              "</div>"
            ],
            "text/plain": [
              "    bbc  med  ria  rt.  All Topic  \\\n",
              "45   24   14    3    1   42    44   \n",
              "13   54   42    2    9  107    12   \n",
              "32   45    5    3    3   56    31   \n",
              "17   68   13    2    9   92    16   \n",
              "8    65   61   11   11  148     7   \n",
              "41   32    6    4    3   45    40   \n",
              "23   29   34    4    8   75    22   \n",
              "29   44    8    7    4   63    28   \n",
              "18   33   41   12    5   91    17   \n",
              "4   112  105   13   38  268     3   \n",
              "48   22   11    2    6   41    47   \n",
              "26   30   25    6    8   69    25   \n",
              "37   20   19    9    1   49    36   \n",
              "22   32   29    4   12   77    21   \n",
              "27   12   41    1   14   68    26   \n",
              "16   41   37    5   18  101    15   \n",
              "39   22   12    5    8   47    38   \n",
              "5    51   77   16   33  177     4   \n",
              "6    72   51   12   36  171     5   \n",
              "11   16   18   35   51  120    10   \n",
              "25    4   15    0   52   71    24   \n",
              "19    6    7   23   50   86    18   \n",
              "28    3    1    2   58   64    27   \n",
              "21    4    1    3   76   84    20   \n",
              "12    3    3    4  102  112    11   \n",
              "49    0    1   28   12   41    48   \n",
              "38    0    1   36   10   47    37   \n",
              "36    0    0   15   37   52    35   \n",
              "\n",
              "                                               Name  alt  prop  prop_share  \n",
              "45                   44_оон_погибнуть_жертва_мирный   38     4    0.095238  \n",
              "13                    12_беженец_миллион_млн_тысяча   96    11    0.102804  \n",
              "32                    31_подкаст_день_война_любимый   50     6    0.107143  \n",
              "17                    16_рубль_банк_валюта_компания   81    11    0.119565  \n",
              "8                      7_потеря_погибнуть_би_гибель  126    22    0.148649  \n",
              "41                   40_час_главное_день_российский   38     7    0.155556  \n",
              "23          22_ребёнок_погибнуть_ранение_пострадать   63    12    0.160000  \n",
              "29   28_британский_разведка_британия_великобритания   52    11    0.174603  \n",
              "18          17_компания_приостановить_бизнес_россия   74    17    0.186813  \n",
              "4          3_направление_генштаб_наступление_сводка  217    51    0.190299  \n",
              "48         47_институт_изучение_эксперт_наступление   33     8    0.195122  \n",
              "26      25_эвакуация_эвакуировать_коридор_мариуполь   55    14    0.202899  \n",
              "37         36_коридор_гуманитарный_верещука_открыть   39    10    0.204082  \n",
              "22                  21_мэр_город_мелитополь_фёдоров   61    16    0.207792  \n",
              "27               26_песня_концерт_евровидение_театр   53    15    0.220588  \n",
              "16                    15_тело_погибнуть_могила_буча   78    23    0.227723  \n",
              "39          38_церковь_православный_патриарх_кирилл   34    13    0.276596  \n",
              "5         4_роскомнадзор_заблокировать_сайт_удалить  128    49    0.276836  \n",
              "6            5_зеленский_президент_владимир_сказать  123    48    0.280702  \n",
              "11         10_район_сосредоточение_поразить_техника   34    86    0.716667  \n",
              "25                   24_русский_писатель_язык_автор   19    52    0.732394  \n",
              "19  18_биологический_биолаборатория_лаборатория_сша   13    73    0.848837  \n",
              "28       27_лейтенант_противник_старший_националист    4    60    0.937500  \n",
              "21                 20_военкор_азовсталь_азов_андрей    5    79    0.940476  \n",
              "12              11_дом_подвал_рассказать_жительница    6   106    0.946429  \n",
              "49      48_донецк_сцкк_обстрелять_представительство    1    40    0.975610  \n",
              "38          37_сложить_милиция_народный_добровольно    1    46    0.978723  \n",
              "36             35_бросить_сдаться_командование_плен    0    52    1.000000  "
            ]
          },
          "execution_count": 135,
          "metadata": {},
          "output_type": "execute_result"
        }
      ],
      "source": [
        "threshold = 0.3\n",
        "min_sample = 40\n",
        "topic_by_source_abs[((topic_by_source_abs['prop_share'] < threshold) | (topic_by_source_abs['prop_share'] > 1-threshold)) & (topic_by_source_abs['All']>=min_sample)].sort_values('prop_share')"
      ]
    },
    {
      "cell_type": "code",
      "execution_count": 154,
      "metadata": {},
      "outputs": [
        {
          "data": {
            "text/html": [
              "<div>\n",
              "<style scoped>\n",
              "    .dataframe tbody tr th:only-of-type {\n",
              "        vertical-align: middle;\n",
              "    }\n",
              "\n",
              "    .dataframe tbody tr th {\n",
              "        vertical-align: top;\n",
              "    }\n",
              "\n",
              "    .dataframe thead th {\n",
              "        text-align: right;\n",
              "    }\n",
              "</style>\n",
              "<table border=\"1\" class=\"dataframe\">\n",
              "  <thead>\n",
              "    <tr style=\"text-align: right;\">\n",
              "      <th></th>\n",
              "      <th>bbc</th>\n",
              "      <th>med</th>\n",
              "      <th>ria</th>\n",
              "      <th>rt.</th>\n",
              "      <th>All</th>\n",
              "      <th>Topic</th>\n",
              "      <th>Name</th>\n",
              "      <th>alt</th>\n",
              "      <th>prop</th>\n",
              "      <th>prop_share</th>\n",
              "    </tr>\n",
              "  </thead>\n",
              "  <tbody>\n",
              "    <tr>\n",
              "      <th>36</th>\n",
              "      <td>0</td>\n",
              "      <td>0</td>\n",
              "      <td>15</td>\n",
              "      <td>37</td>\n",
              "      <td>52</td>\n",
              "      <td>35</td>\n",
              "      <td>35_бросить_сдаться_командование_плен</td>\n",
              "      <td>0</td>\n",
              "      <td>52</td>\n",
              "      <td>1.0</td>\n",
              "    </tr>\n",
              "  </tbody>\n",
              "</table>\n",
              "</div>"
            ],
            "text/plain": [
              "    bbc  med  ria  rt.  All Topic                                  Name  alt  \\\n",
              "36    0    0   15   37   52    35  35_бросить_сдаться_командование_плен    0   \n",
              "\n",
              "    prop  prop_share  \n",
              "36    52         1.0  "
            ]
          },
          "execution_count": 154,
          "metadata": {},
          "output_type": "execute_result"
        }
      ],
      "source": [
        "topic_by_source_abs[(topic_by_source_abs['All']>=min_sample) & topic_by_source_abs['Name'].str.contains('сдать')]"
      ]
    },
    {
      "cell_type": "code",
      "execution_count": 54,
      "metadata": {
        "colab": {
          "base_uri": "https://localhost:8080/"
        },
        "id": "sRg3zpYDTEM8",
        "outputId": "6f0b5c0e-afba-4038-f90f-7ef39a88ee9a"
      },
      "outputs": [
        {
          "data": {
            "text/plain": [
              "160"
            ]
          },
          "execution_count": 54,
          "metadata": {},
          "output_type": "execute_result"
        }
      ],
      "source": [
        "len(set(topics))"
      ]
    },
    {
      "cell_type": "code",
      "execution_count": 146,
      "metadata": {
        "colab": {
          "base_uri": "https://localhost:8080/"
        },
        "id": "ClUADC3gK5Wt",
        "outputId": "26ed8de6-c612-4667-d427-ee6ca4004e08"
      },
      "outputs": [
        {
          "data": {
            "text/plain": [
              "[('военкор', 0.044972032782373425),\n",
              " ('азовсталь', 0.04228978100273216),\n",
              " ('азов', 0.03158613500551794),\n",
              " ('андрей', 0.030151259502367387),\n",
              " ('боевик', 0.027411520370812053),\n",
              " ('филатов', 0.027269867615297316),\n",
              " ('завод', 0.025336089387980834),\n",
              " ('азовец', 0.02452365474213358),\n",
              " ('комбинат', 0.02407125127971125),\n",
              " ('наш', 0.02252599784685213)]"
            ]
          },
          "execution_count": 146,
          "metadata": {},
          "output_type": "execute_result"
        }
      ],
      "source": [
        "# Get top 10 terms for a topic\n",
        "topic_model.get_topic(20)"
      ]
    },
    {
      "cell_type": "code",
      "execution_count": 151,
      "metadata": {
        "colab": {
          "base_uri": "https://localhost:8080/",
          "height": 1000
        },
        "id": "NKUgEnV0K5_C",
        "outputId": "9122c3e3-095d-42b2-bc1a-9e34f6b25115"
      },
      "outputs": [
        {
          "ename": "ValueError",
          "evalue": "Mime type rendering requires nbformat>=4.2.0 but it is not installed",
          "output_type": "error",
          "traceback": [
            "\u001b[0;31m---------------------------------------------------------------------------\u001b[0m",
            "\u001b[0;31mValueError\u001b[0m                                Traceback (most recent call last)",
            "File \u001b[0;32m~/miniforge3/envs/bertopic/lib/python3.10/site-packages/IPython/core/formatters.py:920\u001b[0m, in \u001b[0;36mIPythonDisplayFormatter.__call__\u001b[0;34m(self, obj)\u001b[0m\n\u001b[1;32m    918\u001b[0m method \u001b[39m=\u001b[39m get_real_method(obj, \u001b[39mself\u001b[39m\u001b[39m.\u001b[39mprint_method)\n\u001b[1;32m    919\u001b[0m \u001b[39mif\u001b[39;00m method \u001b[39mis\u001b[39;00m \u001b[39mnot\u001b[39;00m \u001b[39mNone\u001b[39;00m:\n\u001b[0;32m--> 920\u001b[0m     method()\n\u001b[1;32m    921\u001b[0m     \u001b[39mreturn\u001b[39;00m \u001b[39mTrue\u001b[39;00m\n",
            "File \u001b[0;32m~/miniforge3/envs/bertopic/lib/python3.10/site-packages/plotly/basedatatypes.py:834\u001b[0m, in \u001b[0;36mBaseFigure._ipython_display_\u001b[0;34m(self)\u001b[0m\n\u001b[1;32m    831\u001b[0m \u001b[39mimport\u001b[39;00m \u001b[39mplotly\u001b[39;00m\u001b[39m.\u001b[39;00m\u001b[39mio\u001b[39;00m \u001b[39mas\u001b[39;00m \u001b[39mpio\u001b[39;00m\n\u001b[1;32m    833\u001b[0m \u001b[39mif\u001b[39;00m pio\u001b[39m.\u001b[39mrenderers\u001b[39m.\u001b[39mrender_on_display \u001b[39mand\u001b[39;00m pio\u001b[39m.\u001b[39mrenderers\u001b[39m.\u001b[39mdefault:\n\u001b[0;32m--> 834\u001b[0m     pio\u001b[39m.\u001b[39;49mshow(\u001b[39mself\u001b[39;49m)\n\u001b[1;32m    835\u001b[0m \u001b[39melse\u001b[39;00m:\n\u001b[1;32m    836\u001b[0m     \u001b[39mprint\u001b[39m(\u001b[39mrepr\u001b[39m(\u001b[39mself\u001b[39m))\n",
            "File \u001b[0;32m~/miniforge3/envs/bertopic/lib/python3.10/site-packages/plotly/io/_renderers.py:396\u001b[0m, in \u001b[0;36mshow\u001b[0;34m(fig, renderer, validate, **kwargs)\u001b[0m\n\u001b[1;32m    391\u001b[0m         \u001b[39mraise\u001b[39;00m \u001b[39mValueError\u001b[39;00m(\n\u001b[1;32m    392\u001b[0m             \u001b[39m\"\u001b[39m\u001b[39mMime type rendering requires ipython but it is not installed\u001b[39m\u001b[39m\"\u001b[39m\n\u001b[1;32m    393\u001b[0m         )\n\u001b[1;32m    395\u001b[0m     \u001b[39mif\u001b[39;00m \u001b[39mnot\u001b[39;00m nbformat \u001b[39mor\u001b[39;00m LooseVersion(nbformat\u001b[39m.\u001b[39m__version__) \u001b[39m<\u001b[39m LooseVersion(\u001b[39m\"\u001b[39m\u001b[39m4.2.0\u001b[39m\u001b[39m\"\u001b[39m):\n\u001b[0;32m--> 396\u001b[0m         \u001b[39mraise\u001b[39;00m \u001b[39mValueError\u001b[39;00m(\n\u001b[1;32m    397\u001b[0m             \u001b[39m\"\u001b[39m\u001b[39mMime type rendering requires nbformat>=4.2.0 but it is not installed\u001b[39m\u001b[39m\"\u001b[39m\n\u001b[1;32m    398\u001b[0m         )\n\u001b[1;32m    400\u001b[0m     ipython_display\u001b[39m.\u001b[39mdisplay(bundle, raw\u001b[39m=\u001b[39m\u001b[39mTrue\u001b[39;00m)\n\u001b[1;32m    402\u001b[0m \u001b[39m# external renderers\u001b[39;00m\n",
            "\u001b[0;31mValueError\u001b[0m: Mime type rendering requires nbformat>=4.2.0 but it is not installed"
          ]
        },
        {
          "data": {
            "application/vnd.plotly.v1+json": {
              "config": {
                "plotlyServerURL": "https://plot.ly"
              },
              "data": [
                {
                  "marker": {
                    "color": "#D55E00"
                  },
                  "orientation": "h",
                  "type": "bar",
                  "x": [
                    0.009587114067917893,
                    0.01031389475587975,
                    0.01352008716047543,
                    0.013803166776060414,
                    0.04118858309205932
                  ],
                  "xaxis": "x",
                  "y": [
                    "песок  ",
                    "владимир  ",
                    "президент  ",
                    "кремль  ",
                    "путин  "
                  ],
                  "yaxis": "y"
                },
                {
                  "marker": {
                    "color": "#0072B2"
                  },
                  "orientation": "h",
                  "type": "bar",
                  "x": [
                    0.014839396432620744,
                    0.017281301664721995,
                    0.022022845033567502,
                    0.026512456492350397,
                    0.02809952378051308
                  ],
                  "xaxis": "x2",
                  "y": [
                    "расследование  ",
                    "дело  ",
                    "уголовный  ",
                    "преступление  ",
                    "суд  "
                  ],
                  "yaxis": "y2"
                },
                {
                  "marker": {
                    "color": "#CC79A7"
                  },
                  "orientation": "h",
                  "type": "bar",
                  "x": [
                    0.005772380833273076,
                    0.005833303057341011,
                    0.00607865744057563,
                    0.006374478942245669,
                    0.007987457191292562
                  ],
                  "xaxis": "x3",
                  "y": [
                    "русский  ",
                    "город  ",
                    "быть  ",
                    "человек  ",
                    "рф  "
                  ],
                  "yaxis": "y3"
                },
                {
                  "marker": {
                    "color": "#E69F00"
                  },
                  "orientation": "h",
                  "type": "bar",
                  "x": [
                    0.015212353146813434,
                    0.01614820892838099,
                    0.017064653517186036,
                    0.019509697794556705,
                    0.028842746047188197
                  ],
                  "xaxis": "x4",
                  "y": [
                    "донецкий  ",
                    "сводка  ",
                    "наступление  ",
                    "генштаб  ",
                    "направление  "
                  ],
                  "yaxis": "y4"
                },
                {
                  "marker": {
                    "color": "#56B4E9"
                  },
                  "orientation": "h",
                  "type": "bar",
                  "x": [
                    0.021703175614279105,
                    0.02174275595529699,
                    0.024577324331710785,
                    0.03147481288924172,
                    0.04948848449417033
                  ],
                  "xaxis": "x5",
                  "y": [
                    "блокировка  ",
                    "удалить  ",
                    "сайт  ",
                    "заблокировать  ",
                    "роскомнадзор  "
                  ],
                  "yaxis": "y5"
                },
                {
                  "marker": {
                    "color": "#009E73"
                  },
                  "orientation": "h",
                  "type": "bar",
                  "x": [
                    0.009679921911912297,
                    0.009692749139242264,
                    0.013682552494856547,
                    0.019782153732107857,
                    0.04935371804642743
                  ],
                  "xaxis": "x6",
                  "y": [
                    "украина  ",
                    "сказать  ",
                    "владимир  ",
                    "президент  ",
                    "зеленский  "
                  ],
                  "yaxis": "y6"
                },
                {
                  "marker": {
                    "color": "#F0E442"
                  },
                  "orientation": "h",
                  "type": "bar",
                  "x": [
                    0.025202229603210377,
                    0.025486354672241692,
                    0.03727407097629479,
                    0.03789421934392114,
                    0.038200376427910625
                  ],
                  "xaxis": "x7",
                  "y": [
                    "млн  ",
                    "пакет  ",
                    "помощь  ",
                    "доллар  ",
                    "млрд  "
                  ],
                  "yaxis": "y7"
                },
                {
                  "marker": {
                    "color": "#D55E00"
                  },
                  "orientation": "h",
                  "type": "bar",
                  "x": [
                    0.014617936343533028,
                    0.017651138296070006,
                    0.020333362942824895,
                    0.03570054948442548,
                    0.053358260089367525
                  ],
                  "xaxis": "x8",
                  "y": [
                    "потерять  ",
                    "гибель  ",
                    "би  ",
                    "погибнуть  ",
                    "потеря  "
                  ],
                  "yaxis": "y8"
                },
                {
                  "marker": {
                    "color": "#0072B2"
                  },
                  "orientation": "h",
                  "type": "bar",
                  "x": [
                    0.013912214149110515,
                    0.014110018189404019,
                    0.016977414634410295,
                    0.021145311419722805,
                    0.05222886920118737
                  ],
                  "xaxis": "x9",
                  "y": [
                    "раунд  ",
                    "подоляк  ",
                    "мединский  ",
                    "делегация  ",
                    "переговоры  "
                  ],
                  "yaxis": "y9"
                },
                {
                  "marker": {
                    "color": "#CC79A7"
                  },
                  "orientation": "h",
                  "type": "bar",
                  "x": [
                    0.04971274748009167,
                    0.05300582492852311,
                    0.054567269572288524,
                    0.06766365340384585,
                    0.08747247697561535
                  ],
                  "xaxis": "x10",
                  "y": [
                    "пострадать  ",
                    "обстрел  ",
                    "село  ",
                    "белгородский  ",
                    "губернатор  "
                  ],
                  "yaxis": "y10"
                },
                {
                  "marker": {
                    "color": "#E69F00"
                  },
                  "orientation": "h",
                  "type": "bar",
                  "x": [
                    0.03683547384102531,
                    0.03889374026223459,
                    0.03979753621990367,
                    0.04347494751010989,
                    0.05152019136807033
                  ],
                  "xaxis": "x11",
                  "y": [
                    "уничтожить  ",
                    "техника  ",
                    "поразить  ",
                    "сосредоточение  ",
                    "район  "
                  ],
                  "yaxis": "y11"
                },
                {
                  "marker": {
                    "color": "#56B4E9"
                  },
                  "orientation": "h",
                  "type": "bar",
                  "x": [
                    0.01911614487809443,
                    0.019182206872362974,
                    0.01981168999783258,
                    0.021181262461203356,
                    0.023418353713307215
                  ],
                  "xaxis": "x12",
                  "y": [
                    "стрелять  ",
                    "жительница  ",
                    "рассказать  ",
                    "подвал  ",
                    "дом  "
                  ],
                  "yaxis": "y12"
                }
              ],
              "layout": {
                "annotations": [
                  {
                    "font": {
                      "size": 16
                    },
                    "showarrow": false,
                    "text": "Topic 0",
                    "x": 0.0875,
                    "xanchor": "center",
                    "xref": "paper",
                    "y": 1,
                    "yanchor": "bottom",
                    "yref": "paper"
                  },
                  {
                    "font": {
                      "size": 16
                    },
                    "showarrow": false,
                    "text": "Topic 1",
                    "x": 0.36250000000000004,
                    "xanchor": "center",
                    "xref": "paper",
                    "y": 1,
                    "yanchor": "bottom",
                    "yref": "paper"
                  },
                  {
                    "font": {
                      "size": 16
                    },
                    "showarrow": false,
                    "text": "Topic 2",
                    "x": 0.6375000000000001,
                    "xanchor": "center",
                    "xref": "paper",
                    "y": 1,
                    "yanchor": "bottom",
                    "yref": "paper"
                  },
                  {
                    "font": {
                      "size": 16
                    },
                    "showarrow": false,
                    "text": "Topic 3",
                    "x": 0.9125,
                    "xanchor": "center",
                    "xref": "paper",
                    "y": 1,
                    "yanchor": "bottom",
                    "yref": "paper"
                  },
                  {
                    "font": {
                      "size": 16
                    },
                    "showarrow": false,
                    "text": "Topic 4",
                    "x": 0.0875,
                    "xanchor": "center",
                    "xref": "paper",
                    "y": 0.6222222222222222,
                    "yanchor": "bottom",
                    "yref": "paper"
                  },
                  {
                    "font": {
                      "size": 16
                    },
                    "showarrow": false,
                    "text": "Topic 5",
                    "x": 0.36250000000000004,
                    "xanchor": "center",
                    "xref": "paper",
                    "y": 0.6222222222222222,
                    "yanchor": "bottom",
                    "yref": "paper"
                  },
                  {
                    "font": {
                      "size": 16
                    },
                    "showarrow": false,
                    "text": "Topic 6",
                    "x": 0.6375000000000001,
                    "xanchor": "center",
                    "xref": "paper",
                    "y": 0.6222222222222222,
                    "yanchor": "bottom",
                    "yref": "paper"
                  },
                  {
                    "font": {
                      "size": 16
                    },
                    "showarrow": false,
                    "text": "Topic 7",
                    "x": 0.9125,
                    "xanchor": "center",
                    "xref": "paper",
                    "y": 0.6222222222222222,
                    "yanchor": "bottom",
                    "yref": "paper"
                  },
                  {
                    "font": {
                      "size": 16
                    },
                    "showarrow": false,
                    "text": "Topic 8",
                    "x": 0.0875,
                    "xanchor": "center",
                    "xref": "paper",
                    "y": 0.24444444444444446,
                    "yanchor": "bottom",
                    "yref": "paper"
                  },
                  {
                    "font": {
                      "size": 16
                    },
                    "showarrow": false,
                    "text": "Topic 9",
                    "x": 0.36250000000000004,
                    "xanchor": "center",
                    "xref": "paper",
                    "y": 0.24444444444444446,
                    "yanchor": "bottom",
                    "yref": "paper"
                  },
                  {
                    "font": {
                      "size": 16
                    },
                    "showarrow": false,
                    "text": "Topic 10",
                    "x": 0.6375000000000001,
                    "xanchor": "center",
                    "xref": "paper",
                    "y": 0.24444444444444446,
                    "yanchor": "bottom",
                    "yref": "paper"
                  },
                  {
                    "font": {
                      "size": 16
                    },
                    "showarrow": false,
                    "text": "Topic 11",
                    "x": 0.9125,
                    "xanchor": "center",
                    "xref": "paper",
                    "y": 0.24444444444444446,
                    "yanchor": "bottom",
                    "yref": "paper"
                  }
                ],
                "height": 750,
                "hoverlabel": {
                  "bgcolor": "white",
                  "font": {
                    "family": "Rockwell",
                    "size": 16
                  }
                },
                "showlegend": false,
                "template": {
                  "data": {
                    "bar": [
                      {
                        "error_x": {
                          "color": "#2a3f5f"
                        },
                        "error_y": {
                          "color": "#2a3f5f"
                        },
                        "marker": {
                          "line": {
                            "color": "white",
                            "width": 0.5
                          },
                          "pattern": {
                            "fillmode": "overlay",
                            "size": 10,
                            "solidity": 0.2
                          }
                        },
                        "type": "bar"
                      }
                    ],
                    "barpolar": [
                      {
                        "marker": {
                          "line": {
                            "color": "white",
                            "width": 0.5
                          },
                          "pattern": {
                            "fillmode": "overlay",
                            "size": 10,
                            "solidity": 0.2
                          }
                        },
                        "type": "barpolar"
                      }
                    ],
                    "carpet": [
                      {
                        "aaxis": {
                          "endlinecolor": "#2a3f5f",
                          "gridcolor": "#C8D4E3",
                          "linecolor": "#C8D4E3",
                          "minorgridcolor": "#C8D4E3",
                          "startlinecolor": "#2a3f5f"
                        },
                        "baxis": {
                          "endlinecolor": "#2a3f5f",
                          "gridcolor": "#C8D4E3",
                          "linecolor": "#C8D4E3",
                          "minorgridcolor": "#C8D4E3",
                          "startlinecolor": "#2a3f5f"
                        },
                        "type": "carpet"
                      }
                    ],
                    "choropleth": [
                      {
                        "colorbar": {
                          "outlinewidth": 0,
                          "ticks": ""
                        },
                        "type": "choropleth"
                      }
                    ],
                    "contour": [
                      {
                        "colorbar": {
                          "outlinewidth": 0,
                          "ticks": ""
                        },
                        "colorscale": [
                          [
                            0,
                            "#0d0887"
                          ],
                          [
                            0.1111111111111111,
                            "#46039f"
                          ],
                          [
                            0.2222222222222222,
                            "#7201a8"
                          ],
                          [
                            0.3333333333333333,
                            "#9c179e"
                          ],
                          [
                            0.4444444444444444,
                            "#bd3786"
                          ],
                          [
                            0.5555555555555556,
                            "#d8576b"
                          ],
                          [
                            0.6666666666666666,
                            "#ed7953"
                          ],
                          [
                            0.7777777777777778,
                            "#fb9f3a"
                          ],
                          [
                            0.8888888888888888,
                            "#fdca26"
                          ],
                          [
                            1,
                            "#f0f921"
                          ]
                        ],
                        "type": "contour"
                      }
                    ],
                    "contourcarpet": [
                      {
                        "colorbar": {
                          "outlinewidth": 0,
                          "ticks": ""
                        },
                        "type": "contourcarpet"
                      }
                    ],
                    "heatmap": [
                      {
                        "colorbar": {
                          "outlinewidth": 0,
                          "ticks": ""
                        },
                        "colorscale": [
                          [
                            0,
                            "#0d0887"
                          ],
                          [
                            0.1111111111111111,
                            "#46039f"
                          ],
                          [
                            0.2222222222222222,
                            "#7201a8"
                          ],
                          [
                            0.3333333333333333,
                            "#9c179e"
                          ],
                          [
                            0.4444444444444444,
                            "#bd3786"
                          ],
                          [
                            0.5555555555555556,
                            "#d8576b"
                          ],
                          [
                            0.6666666666666666,
                            "#ed7953"
                          ],
                          [
                            0.7777777777777778,
                            "#fb9f3a"
                          ],
                          [
                            0.8888888888888888,
                            "#fdca26"
                          ],
                          [
                            1,
                            "#f0f921"
                          ]
                        ],
                        "type": "heatmap"
                      }
                    ],
                    "heatmapgl": [
                      {
                        "colorbar": {
                          "outlinewidth": 0,
                          "ticks": ""
                        },
                        "colorscale": [
                          [
                            0,
                            "#0d0887"
                          ],
                          [
                            0.1111111111111111,
                            "#46039f"
                          ],
                          [
                            0.2222222222222222,
                            "#7201a8"
                          ],
                          [
                            0.3333333333333333,
                            "#9c179e"
                          ],
                          [
                            0.4444444444444444,
                            "#bd3786"
                          ],
                          [
                            0.5555555555555556,
                            "#d8576b"
                          ],
                          [
                            0.6666666666666666,
                            "#ed7953"
                          ],
                          [
                            0.7777777777777778,
                            "#fb9f3a"
                          ],
                          [
                            0.8888888888888888,
                            "#fdca26"
                          ],
                          [
                            1,
                            "#f0f921"
                          ]
                        ],
                        "type": "heatmapgl"
                      }
                    ],
                    "histogram": [
                      {
                        "marker": {
                          "pattern": {
                            "fillmode": "overlay",
                            "size": 10,
                            "solidity": 0.2
                          }
                        },
                        "type": "histogram"
                      }
                    ],
                    "histogram2d": [
                      {
                        "colorbar": {
                          "outlinewidth": 0,
                          "ticks": ""
                        },
                        "colorscale": [
                          [
                            0,
                            "#0d0887"
                          ],
                          [
                            0.1111111111111111,
                            "#46039f"
                          ],
                          [
                            0.2222222222222222,
                            "#7201a8"
                          ],
                          [
                            0.3333333333333333,
                            "#9c179e"
                          ],
                          [
                            0.4444444444444444,
                            "#bd3786"
                          ],
                          [
                            0.5555555555555556,
                            "#d8576b"
                          ],
                          [
                            0.6666666666666666,
                            "#ed7953"
                          ],
                          [
                            0.7777777777777778,
                            "#fb9f3a"
                          ],
                          [
                            0.8888888888888888,
                            "#fdca26"
                          ],
                          [
                            1,
                            "#f0f921"
                          ]
                        ],
                        "type": "histogram2d"
                      }
                    ],
                    "histogram2dcontour": [
                      {
                        "colorbar": {
                          "outlinewidth": 0,
                          "ticks": ""
                        },
                        "colorscale": [
                          [
                            0,
                            "#0d0887"
                          ],
                          [
                            0.1111111111111111,
                            "#46039f"
                          ],
                          [
                            0.2222222222222222,
                            "#7201a8"
                          ],
                          [
                            0.3333333333333333,
                            "#9c179e"
                          ],
                          [
                            0.4444444444444444,
                            "#bd3786"
                          ],
                          [
                            0.5555555555555556,
                            "#d8576b"
                          ],
                          [
                            0.6666666666666666,
                            "#ed7953"
                          ],
                          [
                            0.7777777777777778,
                            "#fb9f3a"
                          ],
                          [
                            0.8888888888888888,
                            "#fdca26"
                          ],
                          [
                            1,
                            "#f0f921"
                          ]
                        ],
                        "type": "histogram2dcontour"
                      }
                    ],
                    "mesh3d": [
                      {
                        "colorbar": {
                          "outlinewidth": 0,
                          "ticks": ""
                        },
                        "type": "mesh3d"
                      }
                    ],
                    "parcoords": [
                      {
                        "line": {
                          "colorbar": {
                            "outlinewidth": 0,
                            "ticks": ""
                          }
                        },
                        "type": "parcoords"
                      }
                    ],
                    "pie": [
                      {
                        "automargin": true,
                        "type": "pie"
                      }
                    ],
                    "scatter": [
                      {
                        "fillpattern": {
                          "fillmode": "overlay",
                          "size": 10,
                          "solidity": 0.2
                        },
                        "type": "scatter"
                      }
                    ],
                    "scatter3d": [
                      {
                        "line": {
                          "colorbar": {
                            "outlinewidth": 0,
                            "ticks": ""
                          }
                        },
                        "marker": {
                          "colorbar": {
                            "outlinewidth": 0,
                            "ticks": ""
                          }
                        },
                        "type": "scatter3d"
                      }
                    ],
                    "scattercarpet": [
                      {
                        "marker": {
                          "colorbar": {
                            "outlinewidth": 0,
                            "ticks": ""
                          }
                        },
                        "type": "scattercarpet"
                      }
                    ],
                    "scattergeo": [
                      {
                        "marker": {
                          "colorbar": {
                            "outlinewidth": 0,
                            "ticks": ""
                          }
                        },
                        "type": "scattergeo"
                      }
                    ],
                    "scattergl": [
                      {
                        "marker": {
                          "colorbar": {
                            "outlinewidth": 0,
                            "ticks": ""
                          }
                        },
                        "type": "scattergl"
                      }
                    ],
                    "scattermapbox": [
                      {
                        "marker": {
                          "colorbar": {
                            "outlinewidth": 0,
                            "ticks": ""
                          }
                        },
                        "type": "scattermapbox"
                      }
                    ],
                    "scatterpolar": [
                      {
                        "marker": {
                          "colorbar": {
                            "outlinewidth": 0,
                            "ticks": ""
                          }
                        },
                        "type": "scatterpolar"
                      }
                    ],
                    "scatterpolargl": [
                      {
                        "marker": {
                          "colorbar": {
                            "outlinewidth": 0,
                            "ticks": ""
                          }
                        },
                        "type": "scatterpolargl"
                      }
                    ],
                    "scatterternary": [
                      {
                        "marker": {
                          "colorbar": {
                            "outlinewidth": 0,
                            "ticks": ""
                          }
                        },
                        "type": "scatterternary"
                      }
                    ],
                    "surface": [
                      {
                        "colorbar": {
                          "outlinewidth": 0,
                          "ticks": ""
                        },
                        "colorscale": [
                          [
                            0,
                            "#0d0887"
                          ],
                          [
                            0.1111111111111111,
                            "#46039f"
                          ],
                          [
                            0.2222222222222222,
                            "#7201a8"
                          ],
                          [
                            0.3333333333333333,
                            "#9c179e"
                          ],
                          [
                            0.4444444444444444,
                            "#bd3786"
                          ],
                          [
                            0.5555555555555556,
                            "#d8576b"
                          ],
                          [
                            0.6666666666666666,
                            "#ed7953"
                          ],
                          [
                            0.7777777777777778,
                            "#fb9f3a"
                          ],
                          [
                            0.8888888888888888,
                            "#fdca26"
                          ],
                          [
                            1,
                            "#f0f921"
                          ]
                        ],
                        "type": "surface"
                      }
                    ],
                    "table": [
                      {
                        "cells": {
                          "fill": {
                            "color": "#EBF0F8"
                          },
                          "line": {
                            "color": "white"
                          }
                        },
                        "header": {
                          "fill": {
                            "color": "#C8D4E3"
                          },
                          "line": {
                            "color": "white"
                          }
                        },
                        "type": "table"
                      }
                    ]
                  },
                  "layout": {
                    "annotationdefaults": {
                      "arrowcolor": "#2a3f5f",
                      "arrowhead": 0,
                      "arrowwidth": 1
                    },
                    "autotypenumbers": "strict",
                    "coloraxis": {
                      "colorbar": {
                        "outlinewidth": 0,
                        "ticks": ""
                      }
                    },
                    "colorscale": {
                      "diverging": [
                        [
                          0,
                          "#8e0152"
                        ],
                        [
                          0.1,
                          "#c51b7d"
                        ],
                        [
                          0.2,
                          "#de77ae"
                        ],
                        [
                          0.3,
                          "#f1b6da"
                        ],
                        [
                          0.4,
                          "#fde0ef"
                        ],
                        [
                          0.5,
                          "#f7f7f7"
                        ],
                        [
                          0.6,
                          "#e6f5d0"
                        ],
                        [
                          0.7,
                          "#b8e186"
                        ],
                        [
                          0.8,
                          "#7fbc41"
                        ],
                        [
                          0.9,
                          "#4d9221"
                        ],
                        [
                          1,
                          "#276419"
                        ]
                      ],
                      "sequential": [
                        [
                          0,
                          "#0d0887"
                        ],
                        [
                          0.1111111111111111,
                          "#46039f"
                        ],
                        [
                          0.2222222222222222,
                          "#7201a8"
                        ],
                        [
                          0.3333333333333333,
                          "#9c179e"
                        ],
                        [
                          0.4444444444444444,
                          "#bd3786"
                        ],
                        [
                          0.5555555555555556,
                          "#d8576b"
                        ],
                        [
                          0.6666666666666666,
                          "#ed7953"
                        ],
                        [
                          0.7777777777777778,
                          "#fb9f3a"
                        ],
                        [
                          0.8888888888888888,
                          "#fdca26"
                        ],
                        [
                          1,
                          "#f0f921"
                        ]
                      ],
                      "sequentialminus": [
                        [
                          0,
                          "#0d0887"
                        ],
                        [
                          0.1111111111111111,
                          "#46039f"
                        ],
                        [
                          0.2222222222222222,
                          "#7201a8"
                        ],
                        [
                          0.3333333333333333,
                          "#9c179e"
                        ],
                        [
                          0.4444444444444444,
                          "#bd3786"
                        ],
                        [
                          0.5555555555555556,
                          "#d8576b"
                        ],
                        [
                          0.6666666666666666,
                          "#ed7953"
                        ],
                        [
                          0.7777777777777778,
                          "#fb9f3a"
                        ],
                        [
                          0.8888888888888888,
                          "#fdca26"
                        ],
                        [
                          1,
                          "#f0f921"
                        ]
                      ]
                    },
                    "colorway": [
                      "#636efa",
                      "#EF553B",
                      "#00cc96",
                      "#ab63fa",
                      "#FFA15A",
                      "#19d3f3",
                      "#FF6692",
                      "#B6E880",
                      "#FF97FF",
                      "#FECB52"
                    ],
                    "font": {
                      "color": "#2a3f5f"
                    },
                    "geo": {
                      "bgcolor": "white",
                      "lakecolor": "white",
                      "landcolor": "white",
                      "showlakes": true,
                      "showland": true,
                      "subunitcolor": "#C8D4E3"
                    },
                    "hoverlabel": {
                      "align": "left"
                    },
                    "hovermode": "closest",
                    "mapbox": {
                      "style": "light"
                    },
                    "paper_bgcolor": "white",
                    "plot_bgcolor": "white",
                    "polar": {
                      "angularaxis": {
                        "gridcolor": "#EBF0F8",
                        "linecolor": "#EBF0F8",
                        "ticks": ""
                      },
                      "bgcolor": "white",
                      "radialaxis": {
                        "gridcolor": "#EBF0F8",
                        "linecolor": "#EBF0F8",
                        "ticks": ""
                      }
                    },
                    "scene": {
                      "xaxis": {
                        "backgroundcolor": "white",
                        "gridcolor": "#DFE8F3",
                        "gridwidth": 2,
                        "linecolor": "#EBF0F8",
                        "showbackground": true,
                        "ticks": "",
                        "zerolinecolor": "#EBF0F8"
                      },
                      "yaxis": {
                        "backgroundcolor": "white",
                        "gridcolor": "#DFE8F3",
                        "gridwidth": 2,
                        "linecolor": "#EBF0F8",
                        "showbackground": true,
                        "ticks": "",
                        "zerolinecolor": "#EBF0F8"
                      },
                      "zaxis": {
                        "backgroundcolor": "white",
                        "gridcolor": "#DFE8F3",
                        "gridwidth": 2,
                        "linecolor": "#EBF0F8",
                        "showbackground": true,
                        "ticks": "",
                        "zerolinecolor": "#EBF0F8"
                      }
                    },
                    "shapedefaults": {
                      "line": {
                        "color": "#2a3f5f"
                      }
                    },
                    "ternary": {
                      "aaxis": {
                        "gridcolor": "#DFE8F3",
                        "linecolor": "#A2B1C6",
                        "ticks": ""
                      },
                      "baxis": {
                        "gridcolor": "#DFE8F3",
                        "linecolor": "#A2B1C6",
                        "ticks": ""
                      },
                      "bgcolor": "white",
                      "caxis": {
                        "gridcolor": "#DFE8F3",
                        "linecolor": "#A2B1C6",
                        "ticks": ""
                      }
                    },
                    "title": {
                      "x": 0.05
                    },
                    "xaxis": {
                      "automargin": true,
                      "gridcolor": "#EBF0F8",
                      "linecolor": "#EBF0F8",
                      "ticks": "",
                      "title": {
                        "standoff": 15
                      },
                      "zerolinecolor": "#EBF0F8",
                      "zerolinewidth": 2
                    },
                    "yaxis": {
                      "automargin": true,
                      "gridcolor": "#EBF0F8",
                      "linecolor": "#EBF0F8",
                      "ticks": "",
                      "title": {
                        "standoff": 15
                      },
                      "zerolinecolor": "#EBF0F8",
                      "zerolinewidth": 2
                    }
                  }
                },
                "title": {
                  "font": {
                    "color": "Black",
                    "size": 22
                  },
                  "text": "Topic Word Scores",
                  "x": 0.5,
                  "xanchor": "center",
                  "yanchor": "top"
                },
                "width": 1000,
                "xaxis": {
                  "anchor": "y",
                  "domain": [
                    0,
                    0.175
                  ],
                  "showgrid": true
                },
                "xaxis10": {
                  "anchor": "y10",
                  "domain": [
                    0.275,
                    0.45
                  ],
                  "showgrid": true
                },
                "xaxis11": {
                  "anchor": "y11",
                  "domain": [
                    0.55,
                    0.7250000000000001
                  ],
                  "showgrid": true
                },
                "xaxis12": {
                  "anchor": "y12",
                  "domain": [
                    0.825,
                    1
                  ],
                  "showgrid": true
                },
                "xaxis2": {
                  "anchor": "y2",
                  "domain": [
                    0.275,
                    0.45
                  ],
                  "showgrid": true
                },
                "xaxis3": {
                  "anchor": "y3",
                  "domain": [
                    0.55,
                    0.7250000000000001
                  ],
                  "showgrid": true
                },
                "xaxis4": {
                  "anchor": "y4",
                  "domain": [
                    0.825,
                    1
                  ],
                  "showgrid": true
                },
                "xaxis5": {
                  "anchor": "y5",
                  "domain": [
                    0,
                    0.175
                  ],
                  "showgrid": true
                },
                "xaxis6": {
                  "anchor": "y6",
                  "domain": [
                    0.275,
                    0.45
                  ],
                  "showgrid": true
                },
                "xaxis7": {
                  "anchor": "y7",
                  "domain": [
                    0.55,
                    0.7250000000000001
                  ],
                  "showgrid": true
                },
                "xaxis8": {
                  "anchor": "y8",
                  "domain": [
                    0.825,
                    1
                  ],
                  "showgrid": true
                },
                "xaxis9": {
                  "anchor": "y9",
                  "domain": [
                    0,
                    0.175
                  ],
                  "showgrid": true
                },
                "yaxis": {
                  "anchor": "x",
                  "domain": [
                    0.7555555555555555,
                    1
                  ],
                  "showgrid": true
                },
                "yaxis10": {
                  "anchor": "x10",
                  "domain": [
                    0,
                    0.24444444444444446
                  ],
                  "showgrid": true
                },
                "yaxis11": {
                  "anchor": "x11",
                  "domain": [
                    0,
                    0.24444444444444446
                  ],
                  "showgrid": true
                },
                "yaxis12": {
                  "anchor": "x12",
                  "domain": [
                    0,
                    0.24444444444444446
                  ],
                  "showgrid": true
                },
                "yaxis2": {
                  "anchor": "x2",
                  "domain": [
                    0.7555555555555555,
                    1
                  ],
                  "showgrid": true
                },
                "yaxis3": {
                  "anchor": "x3",
                  "domain": [
                    0.7555555555555555,
                    1
                  ],
                  "showgrid": true
                },
                "yaxis4": {
                  "anchor": "x4",
                  "domain": [
                    0.7555555555555555,
                    1
                  ],
                  "showgrid": true
                },
                "yaxis5": {
                  "anchor": "x5",
                  "domain": [
                    0.37777777777777777,
                    0.6222222222222222
                  ],
                  "showgrid": true
                },
                "yaxis6": {
                  "anchor": "x6",
                  "domain": [
                    0.37777777777777777,
                    0.6222222222222222
                  ],
                  "showgrid": true
                },
                "yaxis7": {
                  "anchor": "x7",
                  "domain": [
                    0.37777777777777777,
                    0.6222222222222222
                  ],
                  "showgrid": true
                },
                "yaxis8": {
                  "anchor": "x8",
                  "domain": [
                    0.37777777777777777,
                    0.6222222222222222
                  ],
                  "showgrid": true
                },
                "yaxis9": {
                  "anchor": "x9",
                  "domain": [
                    0,
                    0.24444444444444446
                  ],
                  "showgrid": true
                }
              }
            },
            "text/html": [
              "<div>                        <script type=\"text/javascript\">window.PlotlyConfig = {MathJaxConfig: 'local'};</script>\n",
              "        <script src=\"https://cdn.plot.ly/plotly-2.18.0.min.js\"></script>                <div id=\"1f276caf-0cae-4e56-97c5-d00d5073221b\" class=\"plotly-graph-div\" style=\"height:750px; width:1000px;\"></div>            <script type=\"text/javascript\">                                    window.PLOTLYENV=window.PLOTLYENV || {};                                    if (document.getElementById(\"1f276caf-0cae-4e56-97c5-d00d5073221b\")) {                    Plotly.newPlot(                        \"1f276caf-0cae-4e56-97c5-d00d5073221b\",                        [{\"marker\":{\"color\":\"#D55E00\"},\"orientation\":\"h\",\"x\":[0.009587114067917893,0.01031389475587975,0.01352008716047543,0.013803166776060414,0.04118858309205932],\"y\":[\"\\u043f\\u0435\\u0441\\u043e\\u043a  \",\"\\u0432\\u043b\\u0430\\u0434\\u0438\\u043c\\u0438\\u0440  \",\"\\u043f\\u0440\\u0435\\u0437\\u0438\\u0434\\u0435\\u043d\\u0442  \",\"\\u043a\\u0440\\u0435\\u043c\\u043b\\u044c  \",\"\\u043f\\u0443\\u0442\\u0438\\u043d  \"],\"type\":\"bar\",\"xaxis\":\"x\",\"yaxis\":\"y\"},{\"marker\":{\"color\":\"#0072B2\"},\"orientation\":\"h\",\"x\":[0.014839396432620744,0.017281301664721995,0.022022845033567502,0.026512456492350397,0.02809952378051308],\"y\":[\"\\u0440\\u0430\\u0441\\u0441\\u043b\\u0435\\u0434\\u043e\\u0432\\u0430\\u043d\\u0438\\u0435  \",\"\\u0434\\u0435\\u043b\\u043e  \",\"\\u0443\\u0433\\u043e\\u043b\\u043e\\u0432\\u043d\\u044b\\u0439  \",\"\\u043f\\u0440\\u0435\\u0441\\u0442\\u0443\\u043f\\u043b\\u0435\\u043d\\u0438\\u0435  \",\"\\u0441\\u0443\\u0434  \"],\"type\":\"bar\",\"xaxis\":\"x2\",\"yaxis\":\"y2\"},{\"marker\":{\"color\":\"#CC79A7\"},\"orientation\":\"h\",\"x\":[0.005772380833273076,0.005833303057341011,0.00607865744057563,0.006374478942245669,0.007987457191292562],\"y\":[\"\\u0440\\u0443\\u0441\\u0441\\u043a\\u0438\\u0439  \",\"\\u0433\\u043e\\u0440\\u043e\\u0434  \",\"\\u0431\\u044b\\u0442\\u044c  \",\"\\u0447\\u0435\\u043b\\u043e\\u0432\\u0435\\u043a  \",\"\\u0440\\u0444  \"],\"type\":\"bar\",\"xaxis\":\"x3\",\"yaxis\":\"y3\"},{\"marker\":{\"color\":\"#E69F00\"},\"orientation\":\"h\",\"x\":[0.015212353146813434,0.01614820892838099,0.017064653517186036,0.019509697794556705,0.028842746047188197],\"y\":[\"\\u0434\\u043e\\u043d\\u0435\\u0446\\u043a\\u0438\\u0439  \",\"\\u0441\\u0432\\u043e\\u0434\\u043a\\u0430  \",\"\\u043d\\u0430\\u0441\\u0442\\u0443\\u043f\\u043b\\u0435\\u043d\\u0438\\u0435  \",\"\\u0433\\u0435\\u043d\\u0448\\u0442\\u0430\\u0431  \",\"\\u043d\\u0430\\u043f\\u0440\\u0430\\u0432\\u043b\\u0435\\u043d\\u0438\\u0435  \"],\"type\":\"bar\",\"xaxis\":\"x4\",\"yaxis\":\"y4\"},{\"marker\":{\"color\":\"#56B4E9\"},\"orientation\":\"h\",\"x\":[0.021703175614279105,0.02174275595529699,0.024577324331710785,0.03147481288924172,0.04948848449417033],\"y\":[\"\\u0431\\u043b\\u043e\\u043a\\u0438\\u0440\\u043e\\u0432\\u043a\\u0430  \",\"\\u0443\\u0434\\u0430\\u043b\\u0438\\u0442\\u044c  \",\"\\u0441\\u0430\\u0439\\u0442  \",\"\\u0437\\u0430\\u0431\\u043b\\u043e\\u043a\\u0438\\u0440\\u043e\\u0432\\u0430\\u0442\\u044c  \",\"\\u0440\\u043e\\u0441\\u043a\\u043e\\u043c\\u043d\\u0430\\u0434\\u0437\\u043e\\u0440  \"],\"type\":\"bar\",\"xaxis\":\"x5\",\"yaxis\":\"y5\"},{\"marker\":{\"color\":\"#009E73\"},\"orientation\":\"h\",\"x\":[0.009679921911912297,0.009692749139242264,0.013682552494856547,0.019782153732107857,0.04935371804642743],\"y\":[\"\\u0443\\u043a\\u0440\\u0430\\u0438\\u043d\\u0430  \",\"\\u0441\\u043a\\u0430\\u0437\\u0430\\u0442\\u044c  \",\"\\u0432\\u043b\\u0430\\u0434\\u0438\\u043c\\u0438\\u0440  \",\"\\u043f\\u0440\\u0435\\u0437\\u0438\\u0434\\u0435\\u043d\\u0442  \",\"\\u0437\\u0435\\u043b\\u0435\\u043d\\u0441\\u043a\\u0438\\u0439  \"],\"type\":\"bar\",\"xaxis\":\"x6\",\"yaxis\":\"y6\"},{\"marker\":{\"color\":\"#F0E442\"},\"orientation\":\"h\",\"x\":[0.025202229603210377,0.025486354672241692,0.03727407097629479,0.03789421934392114,0.038200376427910625],\"y\":[\"\\u043c\\u043b\\u043d  \",\"\\u043f\\u0430\\u043a\\u0435\\u0442  \",\"\\u043f\\u043e\\u043c\\u043e\\u0449\\u044c  \",\"\\u0434\\u043e\\u043b\\u043b\\u0430\\u0440  \",\"\\u043c\\u043b\\u0440\\u0434  \"],\"type\":\"bar\",\"xaxis\":\"x7\",\"yaxis\":\"y7\"},{\"marker\":{\"color\":\"#D55E00\"},\"orientation\":\"h\",\"x\":[0.014617936343533028,0.017651138296070006,0.020333362942824895,0.03570054948442548,0.053358260089367525],\"y\":[\"\\u043f\\u043e\\u0442\\u0435\\u0440\\u044f\\u0442\\u044c  \",\"\\u0433\\u0438\\u0431\\u0435\\u043b\\u044c  \",\"\\u0431\\u0438  \",\"\\u043f\\u043e\\u0433\\u0438\\u0431\\u043d\\u0443\\u0442\\u044c  \",\"\\u043f\\u043e\\u0442\\u0435\\u0440\\u044f  \"],\"type\":\"bar\",\"xaxis\":\"x8\",\"yaxis\":\"y8\"},{\"marker\":{\"color\":\"#0072B2\"},\"orientation\":\"h\",\"x\":[0.013912214149110515,0.014110018189404019,0.016977414634410295,0.021145311419722805,0.05222886920118737],\"y\":[\"\\u0440\\u0430\\u0443\\u043d\\u0434  \",\"\\u043f\\u043e\\u0434\\u043e\\u043b\\u044f\\u043a  \",\"\\u043c\\u0435\\u0434\\u0438\\u043d\\u0441\\u043a\\u0438\\u0439  \",\"\\u0434\\u0435\\u043b\\u0435\\u0433\\u0430\\u0446\\u0438\\u044f  \",\"\\u043f\\u0435\\u0440\\u0435\\u0433\\u043e\\u0432\\u043e\\u0440\\u044b  \"],\"type\":\"bar\",\"xaxis\":\"x9\",\"yaxis\":\"y9\"},{\"marker\":{\"color\":\"#CC79A7\"},\"orientation\":\"h\",\"x\":[0.04971274748009167,0.05300582492852311,0.054567269572288524,0.06766365340384585,0.08747247697561535],\"y\":[\"\\u043f\\u043e\\u0441\\u0442\\u0440\\u0430\\u0434\\u0430\\u0442\\u044c  \",\"\\u043e\\u0431\\u0441\\u0442\\u0440\\u0435\\u043b  \",\"\\u0441\\u0435\\u043b\\u043e  \",\"\\u0431\\u0435\\u043b\\u0433\\u043e\\u0440\\u043e\\u0434\\u0441\\u043a\\u0438\\u0439  \",\"\\u0433\\u0443\\u0431\\u0435\\u0440\\u043d\\u0430\\u0442\\u043e\\u0440  \"],\"type\":\"bar\",\"xaxis\":\"x10\",\"yaxis\":\"y10\"},{\"marker\":{\"color\":\"#E69F00\"},\"orientation\":\"h\",\"x\":[0.03683547384102531,0.03889374026223459,0.03979753621990367,0.04347494751010989,0.05152019136807033],\"y\":[\"\\u0443\\u043d\\u0438\\u0447\\u0442\\u043e\\u0436\\u0438\\u0442\\u044c  \",\"\\u0442\\u0435\\u0445\\u043d\\u0438\\u043a\\u0430  \",\"\\u043f\\u043e\\u0440\\u0430\\u0437\\u0438\\u0442\\u044c  \",\"\\u0441\\u043e\\u0441\\u0440\\u0435\\u0434\\u043e\\u0442\\u043e\\u0447\\u0435\\u043d\\u0438\\u0435  \",\"\\u0440\\u0430\\u0439\\u043e\\u043d  \"],\"type\":\"bar\",\"xaxis\":\"x11\",\"yaxis\":\"y11\"},{\"marker\":{\"color\":\"#56B4E9\"},\"orientation\":\"h\",\"x\":[0.01911614487809443,0.019182206872362974,0.01981168999783258,0.021181262461203356,0.023418353713307215],\"y\":[\"\\u0441\\u0442\\u0440\\u0435\\u043b\\u044f\\u0442\\u044c  \",\"\\u0436\\u0438\\u0442\\u0435\\u043b\\u044c\\u043d\\u0438\\u0446\\u0430  \",\"\\u0440\\u0430\\u0441\\u0441\\u043a\\u0430\\u0437\\u0430\\u0442\\u044c  \",\"\\u043f\\u043e\\u0434\\u0432\\u0430\\u043b  \",\"\\u0434\\u043e\\u043c  \"],\"type\":\"bar\",\"xaxis\":\"x12\",\"yaxis\":\"y12\"}],                        {\"template\":{\"data\":{\"barpolar\":[{\"marker\":{\"line\":{\"color\":\"white\",\"width\":0.5},\"pattern\":{\"fillmode\":\"overlay\",\"size\":10,\"solidity\":0.2}},\"type\":\"barpolar\"}],\"bar\":[{\"error_x\":{\"color\":\"#2a3f5f\"},\"error_y\":{\"color\":\"#2a3f5f\"},\"marker\":{\"line\":{\"color\":\"white\",\"width\":0.5},\"pattern\":{\"fillmode\":\"overlay\",\"size\":10,\"solidity\":0.2}},\"type\":\"bar\"}],\"carpet\":[{\"aaxis\":{\"endlinecolor\":\"#2a3f5f\",\"gridcolor\":\"#C8D4E3\",\"linecolor\":\"#C8D4E3\",\"minorgridcolor\":\"#C8D4E3\",\"startlinecolor\":\"#2a3f5f\"},\"baxis\":{\"endlinecolor\":\"#2a3f5f\",\"gridcolor\":\"#C8D4E3\",\"linecolor\":\"#C8D4E3\",\"minorgridcolor\":\"#C8D4E3\",\"startlinecolor\":\"#2a3f5f\"},\"type\":\"carpet\"}],\"choropleth\":[{\"colorbar\":{\"outlinewidth\":0,\"ticks\":\"\"},\"type\":\"choropleth\"}],\"contourcarpet\":[{\"colorbar\":{\"outlinewidth\":0,\"ticks\":\"\"},\"type\":\"contourcarpet\"}],\"contour\":[{\"colorbar\":{\"outlinewidth\":0,\"ticks\":\"\"},\"colorscale\":[[0.0,\"#0d0887\"],[0.1111111111111111,\"#46039f\"],[0.2222222222222222,\"#7201a8\"],[0.3333333333333333,\"#9c179e\"],[0.4444444444444444,\"#bd3786\"],[0.5555555555555556,\"#d8576b\"],[0.6666666666666666,\"#ed7953\"],[0.7777777777777778,\"#fb9f3a\"],[0.8888888888888888,\"#fdca26\"],[1.0,\"#f0f921\"]],\"type\":\"contour\"}],\"heatmapgl\":[{\"colorbar\":{\"outlinewidth\":0,\"ticks\":\"\"},\"colorscale\":[[0.0,\"#0d0887\"],[0.1111111111111111,\"#46039f\"],[0.2222222222222222,\"#7201a8\"],[0.3333333333333333,\"#9c179e\"],[0.4444444444444444,\"#bd3786\"],[0.5555555555555556,\"#d8576b\"],[0.6666666666666666,\"#ed7953\"],[0.7777777777777778,\"#fb9f3a\"],[0.8888888888888888,\"#fdca26\"],[1.0,\"#f0f921\"]],\"type\":\"heatmapgl\"}],\"heatmap\":[{\"colorbar\":{\"outlinewidth\":0,\"ticks\":\"\"},\"colorscale\":[[0.0,\"#0d0887\"],[0.1111111111111111,\"#46039f\"],[0.2222222222222222,\"#7201a8\"],[0.3333333333333333,\"#9c179e\"],[0.4444444444444444,\"#bd3786\"],[0.5555555555555556,\"#d8576b\"],[0.6666666666666666,\"#ed7953\"],[0.7777777777777778,\"#fb9f3a\"],[0.8888888888888888,\"#fdca26\"],[1.0,\"#f0f921\"]],\"type\":\"heatmap\"}],\"histogram2dcontour\":[{\"colorbar\":{\"outlinewidth\":0,\"ticks\":\"\"},\"colorscale\":[[0.0,\"#0d0887\"],[0.1111111111111111,\"#46039f\"],[0.2222222222222222,\"#7201a8\"],[0.3333333333333333,\"#9c179e\"],[0.4444444444444444,\"#bd3786\"],[0.5555555555555556,\"#d8576b\"],[0.6666666666666666,\"#ed7953\"],[0.7777777777777778,\"#fb9f3a\"],[0.8888888888888888,\"#fdca26\"],[1.0,\"#f0f921\"]],\"type\":\"histogram2dcontour\"}],\"histogram2d\":[{\"colorbar\":{\"outlinewidth\":0,\"ticks\":\"\"},\"colorscale\":[[0.0,\"#0d0887\"],[0.1111111111111111,\"#46039f\"],[0.2222222222222222,\"#7201a8\"],[0.3333333333333333,\"#9c179e\"],[0.4444444444444444,\"#bd3786\"],[0.5555555555555556,\"#d8576b\"],[0.6666666666666666,\"#ed7953\"],[0.7777777777777778,\"#fb9f3a\"],[0.8888888888888888,\"#fdca26\"],[1.0,\"#f0f921\"]],\"type\":\"histogram2d\"}],\"histogram\":[{\"marker\":{\"pattern\":{\"fillmode\":\"overlay\",\"size\":10,\"solidity\":0.2}},\"type\":\"histogram\"}],\"mesh3d\":[{\"colorbar\":{\"outlinewidth\":0,\"ticks\":\"\"},\"type\":\"mesh3d\"}],\"parcoords\":[{\"line\":{\"colorbar\":{\"outlinewidth\":0,\"ticks\":\"\"}},\"type\":\"parcoords\"}],\"pie\":[{\"automargin\":true,\"type\":\"pie\"}],\"scatter3d\":[{\"line\":{\"colorbar\":{\"outlinewidth\":0,\"ticks\":\"\"}},\"marker\":{\"colorbar\":{\"outlinewidth\":0,\"ticks\":\"\"}},\"type\":\"scatter3d\"}],\"scattercarpet\":[{\"marker\":{\"colorbar\":{\"outlinewidth\":0,\"ticks\":\"\"}},\"type\":\"scattercarpet\"}],\"scattergeo\":[{\"marker\":{\"colorbar\":{\"outlinewidth\":0,\"ticks\":\"\"}},\"type\":\"scattergeo\"}],\"scattergl\":[{\"marker\":{\"colorbar\":{\"outlinewidth\":0,\"ticks\":\"\"}},\"type\":\"scattergl\"}],\"scattermapbox\":[{\"marker\":{\"colorbar\":{\"outlinewidth\":0,\"ticks\":\"\"}},\"type\":\"scattermapbox\"}],\"scatterpolargl\":[{\"marker\":{\"colorbar\":{\"outlinewidth\":0,\"ticks\":\"\"}},\"type\":\"scatterpolargl\"}],\"scatterpolar\":[{\"marker\":{\"colorbar\":{\"outlinewidth\":0,\"ticks\":\"\"}},\"type\":\"scatterpolar\"}],\"scatter\":[{\"fillpattern\":{\"fillmode\":\"overlay\",\"size\":10,\"solidity\":0.2},\"type\":\"scatter\"}],\"scatterternary\":[{\"marker\":{\"colorbar\":{\"outlinewidth\":0,\"ticks\":\"\"}},\"type\":\"scatterternary\"}],\"surface\":[{\"colorbar\":{\"outlinewidth\":0,\"ticks\":\"\"},\"colorscale\":[[0.0,\"#0d0887\"],[0.1111111111111111,\"#46039f\"],[0.2222222222222222,\"#7201a8\"],[0.3333333333333333,\"#9c179e\"],[0.4444444444444444,\"#bd3786\"],[0.5555555555555556,\"#d8576b\"],[0.6666666666666666,\"#ed7953\"],[0.7777777777777778,\"#fb9f3a\"],[0.8888888888888888,\"#fdca26\"],[1.0,\"#f0f921\"]],\"type\":\"surface\"}],\"table\":[{\"cells\":{\"fill\":{\"color\":\"#EBF0F8\"},\"line\":{\"color\":\"white\"}},\"header\":{\"fill\":{\"color\":\"#C8D4E3\"},\"line\":{\"color\":\"white\"}},\"type\":\"table\"}]},\"layout\":{\"annotationdefaults\":{\"arrowcolor\":\"#2a3f5f\",\"arrowhead\":0,\"arrowwidth\":1},\"autotypenumbers\":\"strict\",\"coloraxis\":{\"colorbar\":{\"outlinewidth\":0,\"ticks\":\"\"}},\"colorscale\":{\"diverging\":[[0,\"#8e0152\"],[0.1,\"#c51b7d\"],[0.2,\"#de77ae\"],[0.3,\"#f1b6da\"],[0.4,\"#fde0ef\"],[0.5,\"#f7f7f7\"],[0.6,\"#e6f5d0\"],[0.7,\"#b8e186\"],[0.8,\"#7fbc41\"],[0.9,\"#4d9221\"],[1,\"#276419\"]],\"sequential\":[[0.0,\"#0d0887\"],[0.1111111111111111,\"#46039f\"],[0.2222222222222222,\"#7201a8\"],[0.3333333333333333,\"#9c179e\"],[0.4444444444444444,\"#bd3786\"],[0.5555555555555556,\"#d8576b\"],[0.6666666666666666,\"#ed7953\"],[0.7777777777777778,\"#fb9f3a\"],[0.8888888888888888,\"#fdca26\"],[1.0,\"#f0f921\"]],\"sequentialminus\":[[0.0,\"#0d0887\"],[0.1111111111111111,\"#46039f\"],[0.2222222222222222,\"#7201a8\"],[0.3333333333333333,\"#9c179e\"],[0.4444444444444444,\"#bd3786\"],[0.5555555555555556,\"#d8576b\"],[0.6666666666666666,\"#ed7953\"],[0.7777777777777778,\"#fb9f3a\"],[0.8888888888888888,\"#fdca26\"],[1.0,\"#f0f921\"]]},\"colorway\":[\"#636efa\",\"#EF553B\",\"#00cc96\",\"#ab63fa\",\"#FFA15A\",\"#19d3f3\",\"#FF6692\",\"#B6E880\",\"#FF97FF\",\"#FECB52\"],\"font\":{\"color\":\"#2a3f5f\"},\"geo\":{\"bgcolor\":\"white\",\"lakecolor\":\"white\",\"landcolor\":\"white\",\"showlakes\":true,\"showland\":true,\"subunitcolor\":\"#C8D4E3\"},\"hoverlabel\":{\"align\":\"left\"},\"hovermode\":\"closest\",\"mapbox\":{\"style\":\"light\"},\"paper_bgcolor\":\"white\",\"plot_bgcolor\":\"white\",\"polar\":{\"angularaxis\":{\"gridcolor\":\"#EBF0F8\",\"linecolor\":\"#EBF0F8\",\"ticks\":\"\"},\"bgcolor\":\"white\",\"radialaxis\":{\"gridcolor\":\"#EBF0F8\",\"linecolor\":\"#EBF0F8\",\"ticks\":\"\"}},\"scene\":{\"xaxis\":{\"backgroundcolor\":\"white\",\"gridcolor\":\"#DFE8F3\",\"gridwidth\":2,\"linecolor\":\"#EBF0F8\",\"showbackground\":true,\"ticks\":\"\",\"zerolinecolor\":\"#EBF0F8\"},\"yaxis\":{\"backgroundcolor\":\"white\",\"gridcolor\":\"#DFE8F3\",\"gridwidth\":2,\"linecolor\":\"#EBF0F8\",\"showbackground\":true,\"ticks\":\"\",\"zerolinecolor\":\"#EBF0F8\"},\"zaxis\":{\"backgroundcolor\":\"white\",\"gridcolor\":\"#DFE8F3\",\"gridwidth\":2,\"linecolor\":\"#EBF0F8\",\"showbackground\":true,\"ticks\":\"\",\"zerolinecolor\":\"#EBF0F8\"}},\"shapedefaults\":{\"line\":{\"color\":\"#2a3f5f\"}},\"ternary\":{\"aaxis\":{\"gridcolor\":\"#DFE8F3\",\"linecolor\":\"#A2B1C6\",\"ticks\":\"\"},\"baxis\":{\"gridcolor\":\"#DFE8F3\",\"linecolor\":\"#A2B1C6\",\"ticks\":\"\"},\"bgcolor\":\"white\",\"caxis\":{\"gridcolor\":\"#DFE8F3\",\"linecolor\":\"#A2B1C6\",\"ticks\":\"\"}},\"title\":{\"x\":0.05},\"xaxis\":{\"automargin\":true,\"gridcolor\":\"#EBF0F8\",\"linecolor\":\"#EBF0F8\",\"ticks\":\"\",\"title\":{\"standoff\":15},\"zerolinecolor\":\"#EBF0F8\",\"zerolinewidth\":2},\"yaxis\":{\"automargin\":true,\"gridcolor\":\"#EBF0F8\",\"linecolor\":\"#EBF0F8\",\"ticks\":\"\",\"title\":{\"standoff\":15},\"zerolinecolor\":\"#EBF0F8\",\"zerolinewidth\":2}}},\"xaxis\":{\"anchor\":\"y\",\"domain\":[0.0,0.175],\"showgrid\":true},\"yaxis\":{\"anchor\":\"x\",\"domain\":[0.7555555555555555,1.0],\"showgrid\":true},\"xaxis2\":{\"anchor\":\"y2\",\"domain\":[0.275,0.45],\"showgrid\":true},\"yaxis2\":{\"anchor\":\"x2\",\"domain\":[0.7555555555555555,1.0],\"showgrid\":true},\"xaxis3\":{\"anchor\":\"y3\",\"domain\":[0.55,0.7250000000000001],\"showgrid\":true},\"yaxis3\":{\"anchor\":\"x3\",\"domain\":[0.7555555555555555,1.0],\"showgrid\":true},\"xaxis4\":{\"anchor\":\"y4\",\"domain\":[0.825,1.0],\"showgrid\":true},\"yaxis4\":{\"anchor\":\"x4\",\"domain\":[0.7555555555555555,1.0],\"showgrid\":true},\"xaxis5\":{\"anchor\":\"y5\",\"domain\":[0.0,0.175],\"showgrid\":true},\"yaxis5\":{\"anchor\":\"x5\",\"domain\":[0.37777777777777777,0.6222222222222222],\"showgrid\":true},\"xaxis6\":{\"anchor\":\"y6\",\"domain\":[0.275,0.45],\"showgrid\":true},\"yaxis6\":{\"anchor\":\"x6\",\"domain\":[0.37777777777777777,0.6222222222222222],\"showgrid\":true},\"xaxis7\":{\"anchor\":\"y7\",\"domain\":[0.55,0.7250000000000001],\"showgrid\":true},\"yaxis7\":{\"anchor\":\"x7\",\"domain\":[0.37777777777777777,0.6222222222222222],\"showgrid\":true},\"xaxis8\":{\"anchor\":\"y8\",\"domain\":[0.825,1.0],\"showgrid\":true},\"yaxis8\":{\"anchor\":\"x8\",\"domain\":[0.37777777777777777,0.6222222222222222],\"showgrid\":true},\"xaxis9\":{\"anchor\":\"y9\",\"domain\":[0.0,0.175],\"showgrid\":true},\"yaxis9\":{\"anchor\":\"x9\",\"domain\":[0.0,0.24444444444444446],\"showgrid\":true},\"xaxis10\":{\"anchor\":\"y10\",\"domain\":[0.275,0.45],\"showgrid\":true},\"yaxis10\":{\"anchor\":\"x10\",\"domain\":[0.0,0.24444444444444446],\"showgrid\":true},\"xaxis11\":{\"anchor\":\"y11\",\"domain\":[0.55,0.7250000000000001],\"showgrid\":true},\"yaxis11\":{\"anchor\":\"x11\",\"domain\":[0.0,0.24444444444444446],\"showgrid\":true},\"xaxis12\":{\"anchor\":\"y12\",\"domain\":[0.825,1.0],\"showgrid\":true},\"yaxis12\":{\"anchor\":\"x12\",\"domain\":[0.0,0.24444444444444446],\"showgrid\":true},\"annotations\":[{\"font\":{\"size\":16},\"showarrow\":false,\"text\":\"Topic 0\",\"x\":0.0875,\"xanchor\":\"center\",\"xref\":\"paper\",\"y\":1.0,\"yanchor\":\"bottom\",\"yref\":\"paper\"},{\"font\":{\"size\":16},\"showarrow\":false,\"text\":\"Topic 1\",\"x\":0.36250000000000004,\"xanchor\":\"center\",\"xref\":\"paper\",\"y\":1.0,\"yanchor\":\"bottom\",\"yref\":\"paper\"},{\"font\":{\"size\":16},\"showarrow\":false,\"text\":\"Topic 2\",\"x\":0.6375000000000001,\"xanchor\":\"center\",\"xref\":\"paper\",\"y\":1.0,\"yanchor\":\"bottom\",\"yref\":\"paper\"},{\"font\":{\"size\":16},\"showarrow\":false,\"text\":\"Topic 3\",\"x\":0.9125,\"xanchor\":\"center\",\"xref\":\"paper\",\"y\":1.0,\"yanchor\":\"bottom\",\"yref\":\"paper\"},{\"font\":{\"size\":16},\"showarrow\":false,\"text\":\"Topic 4\",\"x\":0.0875,\"xanchor\":\"center\",\"xref\":\"paper\",\"y\":0.6222222222222222,\"yanchor\":\"bottom\",\"yref\":\"paper\"},{\"font\":{\"size\":16},\"showarrow\":false,\"text\":\"Topic 5\",\"x\":0.36250000000000004,\"xanchor\":\"center\",\"xref\":\"paper\",\"y\":0.6222222222222222,\"yanchor\":\"bottom\",\"yref\":\"paper\"},{\"font\":{\"size\":16},\"showarrow\":false,\"text\":\"Topic 6\",\"x\":0.6375000000000001,\"xanchor\":\"center\",\"xref\":\"paper\",\"y\":0.6222222222222222,\"yanchor\":\"bottom\",\"yref\":\"paper\"},{\"font\":{\"size\":16},\"showarrow\":false,\"text\":\"Topic 7\",\"x\":0.9125,\"xanchor\":\"center\",\"xref\":\"paper\",\"y\":0.6222222222222222,\"yanchor\":\"bottom\",\"yref\":\"paper\"},{\"font\":{\"size\":16},\"showarrow\":false,\"text\":\"Topic 8\",\"x\":0.0875,\"xanchor\":\"center\",\"xref\":\"paper\",\"y\":0.24444444444444446,\"yanchor\":\"bottom\",\"yref\":\"paper\"},{\"font\":{\"size\":16},\"showarrow\":false,\"text\":\"Topic 9\",\"x\":0.36250000000000004,\"xanchor\":\"center\",\"xref\":\"paper\",\"y\":0.24444444444444446,\"yanchor\":\"bottom\",\"yref\":\"paper\"},{\"font\":{\"size\":16},\"showarrow\":false,\"text\":\"Topic 10\",\"x\":0.6375000000000001,\"xanchor\":\"center\",\"xref\":\"paper\",\"y\":0.24444444444444446,\"yanchor\":\"bottom\",\"yref\":\"paper\"},{\"font\":{\"size\":16},\"showarrow\":false,\"text\":\"Topic 11\",\"x\":0.9125,\"xanchor\":\"center\",\"xref\":\"paper\",\"y\":0.24444444444444446,\"yanchor\":\"bottom\",\"yref\":\"paper\"}],\"title\":{\"font\":{\"size\":22,\"color\":\"Black\"},\"text\":\"Topic Word Scores\",\"x\":0.5,\"xanchor\":\"center\",\"yanchor\":\"top\"},\"hoverlabel\":{\"font\":{\"size\":16,\"family\":\"Rockwell\"},\"bgcolor\":\"white\"},\"showlegend\":false,\"width\":1000,\"height\":750},                        {\"responsive\": true}                    )                };                            </script>        </div>"
            ],
            "text/plain": [
              "Figure({\n",
              "    'data': [{'marker': {'color': '#D55E00'},\n",
              "              'orientation': 'h',\n",
              "              'type': 'bar',\n",
              "              'x': [0.009587114067917893, 0.01031389475587975,\n",
              "                    0.01352008716047543, 0.013803166776060414, 0.04118858309205932],\n",
              "              'xaxis': 'x',\n",
              "              'y': [песок  , владимир  , президент  , кремль  , путин  ],\n",
              "              'yaxis': 'y'},\n",
              "             {'marker': {'color': '#0072B2'},\n",
              "              'orientation': 'h',\n",
              "              'type': 'bar',\n",
              "              'x': [0.014839396432620744, 0.017281301664721995,\n",
              "                    0.022022845033567502, 0.026512456492350397,\n",
              "                    0.02809952378051308],\n",
              "              'xaxis': 'x2',\n",
              "              'y': [расследование  , дело  , уголовный  , преступление  , суд  ],\n",
              "              'yaxis': 'y2'},\n",
              "             {'marker': {'color': '#CC79A7'},\n",
              "              'orientation': 'h',\n",
              "              'type': 'bar',\n",
              "              'x': [0.005772380833273076, 0.005833303057341011,\n",
              "                    0.00607865744057563, 0.006374478942245669,\n",
              "                    0.007987457191292562],\n",
              "              'xaxis': 'x3',\n",
              "              'y': [русский  , город  , быть  , человек  , рф  ],\n",
              "              'yaxis': 'y3'},\n",
              "             {'marker': {'color': '#E69F00'},\n",
              "              'orientation': 'h',\n",
              "              'type': 'bar',\n",
              "              'x': [0.015212353146813434, 0.01614820892838099,\n",
              "                    0.017064653517186036, 0.019509697794556705,\n",
              "                    0.028842746047188197],\n",
              "              'xaxis': 'x4',\n",
              "              'y': [донецкий  , сводка  , наступление  , генштаб  , направление  ],\n",
              "              'yaxis': 'y4'},\n",
              "             {'marker': {'color': '#56B4E9'},\n",
              "              'orientation': 'h',\n",
              "              'type': 'bar',\n",
              "              'x': [0.021703175614279105, 0.02174275595529699,\n",
              "                    0.024577324331710785, 0.03147481288924172, 0.04948848449417033],\n",
              "              'xaxis': 'x5',\n",
              "              'y': [блокировка  , удалить  , сайт  , заблокировать  , роскомнадзор\n",
              "                    ],\n",
              "              'yaxis': 'y5'},\n",
              "             {'marker': {'color': '#009E73'},\n",
              "              'orientation': 'h',\n",
              "              'type': 'bar',\n",
              "              'x': [0.009679921911912297, 0.009692749139242264,\n",
              "                    0.013682552494856547, 0.019782153732107857,\n",
              "                    0.04935371804642743],\n",
              "              'xaxis': 'x6',\n",
              "              'y': [украина  , сказать  , владимир  , президент  , зеленский  ],\n",
              "              'yaxis': 'y6'},\n",
              "             {'marker': {'color': '#F0E442'},\n",
              "              'orientation': 'h',\n",
              "              'type': 'bar',\n",
              "              'x': [0.025202229603210377, 0.025486354672241692,\n",
              "                    0.03727407097629479, 0.03789421934392114, 0.038200376427910625],\n",
              "              'xaxis': 'x7',\n",
              "              'y': [млн  , пакет  , помощь  , доллар  , млрд  ],\n",
              "              'yaxis': 'y7'},\n",
              "             {'marker': {'color': '#D55E00'},\n",
              "              'orientation': 'h',\n",
              "              'type': 'bar',\n",
              "              'x': [0.014617936343533028, 0.017651138296070006,\n",
              "                    0.020333362942824895, 0.03570054948442548,\n",
              "                    0.053358260089367525],\n",
              "              'xaxis': 'x8',\n",
              "              'y': [потерять  , гибель  , би  , погибнуть  , потеря  ],\n",
              "              'yaxis': 'y8'},\n",
              "             {'marker': {'color': '#0072B2'},\n",
              "              'orientation': 'h',\n",
              "              'type': 'bar',\n",
              "              'x': [0.013912214149110515, 0.014110018189404019,\n",
              "                    0.016977414634410295, 0.021145311419722805,\n",
              "                    0.05222886920118737],\n",
              "              'xaxis': 'x9',\n",
              "              'y': [раунд  , подоляк  , мединский  , делегация  , переговоры  ],\n",
              "              'yaxis': 'y9'},\n",
              "             {'marker': {'color': '#CC79A7'},\n",
              "              'orientation': 'h',\n",
              "              'type': 'bar',\n",
              "              'x': [0.04971274748009167, 0.05300582492852311,\n",
              "                    0.054567269572288524, 0.06766365340384585, 0.08747247697561535],\n",
              "              'xaxis': 'x10',\n",
              "              'y': [пострадать  , обстрел  , село  , белгородский  , губернатор  ],\n",
              "              'yaxis': 'y10'},\n",
              "             {'marker': {'color': '#E69F00'},\n",
              "              'orientation': 'h',\n",
              "              'type': 'bar',\n",
              "              'x': [0.03683547384102531, 0.03889374026223459, 0.03979753621990367,\n",
              "                    0.04347494751010989, 0.05152019136807033],\n",
              "              'xaxis': 'x11',\n",
              "              'y': [уничтожить  , техника  , поразить  , сосредоточение  , район\n",
              "                    ],\n",
              "              'yaxis': 'y11'},\n",
              "             {'marker': {'color': '#56B4E9'},\n",
              "              'orientation': 'h',\n",
              "              'type': 'bar',\n",
              "              'x': [0.01911614487809443, 0.019182206872362974,\n",
              "                    0.01981168999783258, 0.021181262461203356,\n",
              "                    0.023418353713307215],\n",
              "              'xaxis': 'x12',\n",
              "              'y': [стрелять  , жительница  , рассказать  , подвал  , дом  ],\n",
              "              'yaxis': 'y12'}],\n",
              "    'layout': {'annotations': [{'font': {'size': 16},\n",
              "                                'showarrow': False,\n",
              "                                'text': 'Topic 0',\n",
              "                                'x': 0.0875,\n",
              "                                'xanchor': 'center',\n",
              "                                'xref': 'paper',\n",
              "                                'y': 1.0,\n",
              "                                'yanchor': 'bottom',\n",
              "                                'yref': 'paper'},\n",
              "                               {'font': {'size': 16},\n",
              "                                'showarrow': False,\n",
              "                                'text': 'Topic 1',\n",
              "                                'x': 0.36250000000000004,\n",
              "                                'xanchor': 'center',\n",
              "                                'xref': 'paper',\n",
              "                                'y': 1.0,\n",
              "                                'yanchor': 'bottom',\n",
              "                                'yref': 'paper'},\n",
              "                               {'font': {'size': 16},\n",
              "                                'showarrow': False,\n",
              "                                'text': 'Topic 2',\n",
              "                                'x': 0.6375000000000001,\n",
              "                                'xanchor': 'center',\n",
              "                                'xref': 'paper',\n",
              "                                'y': 1.0,\n",
              "                                'yanchor': 'bottom',\n",
              "                                'yref': 'paper'},\n",
              "                               {'font': {'size': 16},\n",
              "                                'showarrow': False,\n",
              "                                'text': 'Topic 3',\n",
              "                                'x': 0.9125,\n",
              "                                'xanchor': 'center',\n",
              "                                'xref': 'paper',\n",
              "                                'y': 1.0,\n",
              "                                'yanchor': 'bottom',\n",
              "                                'yref': 'paper'},\n",
              "                               {'font': {'size': 16},\n",
              "                                'showarrow': False,\n",
              "                                'text': 'Topic 4',\n",
              "                                'x': 0.0875,\n",
              "                                'xanchor': 'center',\n",
              "                                'xref': 'paper',\n",
              "                                'y': 0.6222222222222222,\n",
              "                                'yanchor': 'bottom',\n",
              "                                'yref': 'paper'},\n",
              "                               {'font': {'size': 16},\n",
              "                                'showarrow': False,\n",
              "                                'text': 'Topic 5',\n",
              "                                'x': 0.36250000000000004,\n",
              "                                'xanchor': 'center',\n",
              "                                'xref': 'paper',\n",
              "                                'y': 0.6222222222222222,\n",
              "                                'yanchor': 'bottom',\n",
              "                                'yref': 'paper'},\n",
              "                               {'font': {'size': 16},\n",
              "                                'showarrow': False,\n",
              "                                'text': 'Topic 6',\n",
              "                                'x': 0.6375000000000001,\n",
              "                                'xanchor': 'center',\n",
              "                                'xref': 'paper',\n",
              "                                'y': 0.6222222222222222,\n",
              "                                'yanchor': 'bottom',\n",
              "                                'yref': 'paper'},\n",
              "                               {'font': {'size': 16},\n",
              "                                'showarrow': False,\n",
              "                                'text': 'Topic 7',\n",
              "                                'x': 0.9125,\n",
              "                                'xanchor': 'center',\n",
              "                                'xref': 'paper',\n",
              "                                'y': 0.6222222222222222,\n",
              "                                'yanchor': 'bottom',\n",
              "                                'yref': 'paper'},\n",
              "                               {'font': {'size': 16},\n",
              "                                'showarrow': False,\n",
              "                                'text': 'Topic 8',\n",
              "                                'x': 0.0875,\n",
              "                                'xanchor': 'center',\n",
              "                                'xref': 'paper',\n",
              "                                'y': 0.24444444444444446,\n",
              "                                'yanchor': 'bottom',\n",
              "                                'yref': 'paper'},\n",
              "                               {'font': {'size': 16},\n",
              "                                'showarrow': False,\n",
              "                                'text': 'Topic 9',\n",
              "                                'x': 0.36250000000000004,\n",
              "                                'xanchor': 'center',\n",
              "                                'xref': 'paper',\n",
              "                                'y': 0.24444444444444446,\n",
              "                                'yanchor': 'bottom',\n",
              "                                'yref': 'paper'},\n",
              "                               {'font': {'size': 16},\n",
              "                                'showarrow': False,\n",
              "                                'text': 'Topic 10',\n",
              "                                'x': 0.6375000000000001,\n",
              "                                'xanchor': 'center',\n",
              "                                'xref': 'paper',\n",
              "                                'y': 0.24444444444444446,\n",
              "                                'yanchor': 'bottom',\n",
              "                                'yref': 'paper'},\n",
              "                               {'font': {'size': 16},\n",
              "                                'showarrow': False,\n",
              "                                'text': 'Topic 11',\n",
              "                                'x': 0.9125,\n",
              "                                'xanchor': 'center',\n",
              "                                'xref': 'paper',\n",
              "                                'y': 0.24444444444444446,\n",
              "                                'yanchor': 'bottom',\n",
              "                                'yref': 'paper'}],\n",
              "               'height': 750,\n",
              "               'hoverlabel': {'bgcolor': 'white', 'font': {'family': 'Rockwell', 'size': 16}},\n",
              "               'showlegend': False,\n",
              "               'template': '...',\n",
              "               'title': {'font': {'color': 'Black', 'size': 22},\n",
              "                         'text': 'Topic Word Scores',\n",
              "                         'x': 0.5,\n",
              "                         'xanchor': 'center',\n",
              "                         'yanchor': 'top'},\n",
              "               'width': 1000,\n",
              "               'xaxis': {'anchor': 'y', 'domain': [0.0, 0.175], 'showgrid': True},\n",
              "               'xaxis10': {'anchor': 'y10', 'domain': [0.275, 0.45], 'showgrid': True},\n",
              "               'xaxis11': {'anchor': 'y11', 'domain': [0.55, 0.7250000000000001], 'showgrid': True},\n",
              "               'xaxis12': {'anchor': 'y12', 'domain': [0.825, 1.0], 'showgrid': True},\n",
              "               'xaxis2': {'anchor': 'y2', 'domain': [0.275, 0.45], 'showgrid': True},\n",
              "               'xaxis3': {'anchor': 'y3', 'domain': [0.55, 0.7250000000000001], 'showgrid': True},\n",
              "               'xaxis4': {'anchor': 'y4', 'domain': [0.825, 1.0], 'showgrid': True},\n",
              "               'xaxis5': {'anchor': 'y5', 'domain': [0.0, 0.175], 'showgrid': True},\n",
              "               'xaxis6': {'anchor': 'y6', 'domain': [0.275, 0.45], 'showgrid': True},\n",
              "               'xaxis7': {'anchor': 'y7', 'domain': [0.55, 0.7250000000000001], 'showgrid': True},\n",
              "               'xaxis8': {'anchor': 'y8', 'domain': [0.825, 1.0], 'showgrid': True},\n",
              "               'xaxis9': {'anchor': 'y9', 'domain': [0.0, 0.175], 'showgrid': True},\n",
              "               'yaxis': {'anchor': 'x', 'domain': [0.7555555555555555, 1.0], 'showgrid': True},\n",
              "               'yaxis10': {'anchor': 'x10', 'domain': [0.0, 0.24444444444444446], 'showgrid': True},\n",
              "               'yaxis11': {'anchor': 'x11', 'domain': [0.0, 0.24444444444444446], 'showgrid': True},\n",
              "               'yaxis12': {'anchor': 'x12', 'domain': [0.0, 0.24444444444444446], 'showgrid': True},\n",
              "               'yaxis2': {'anchor': 'x2', 'domain': [0.7555555555555555, 1.0], 'showgrid': True},\n",
              "               'yaxis3': {'anchor': 'x3', 'domain': [0.7555555555555555, 1.0], 'showgrid': True},\n",
              "               'yaxis4': {'anchor': 'x4', 'domain': [0.7555555555555555, 1.0], 'showgrid': True},\n",
              "               'yaxis5': {'anchor': 'x5', 'domain': [0.37777777777777777, 0.6222222222222222], 'showgrid': True},\n",
              "               'yaxis6': {'anchor': 'x6', 'domain': [0.37777777777777777, 0.6222222222222222], 'showgrid': True},\n",
              "               'yaxis7': {'anchor': 'x7', 'domain': [0.37777777777777777, 0.6222222222222222], 'showgrid': True},\n",
              "               'yaxis8': {'anchor': 'x8', 'domain': [0.37777777777777777, 0.6222222222222222], 'showgrid': True},\n",
              "               'yaxis9': {'anchor': 'x9', 'domain': [0.0, 0.24444444444444446], 'showgrid': True}}\n",
              "})"
            ]
          },
          "execution_count": 151,
          "metadata": {},
          "output_type": "execute_result"
        }
      ],
      "source": [
        "# Visualize top topic keywords\n",
        "topic_model.visualize_barchart(top_n_topics=12)"
      ]
    },
    {
      "attachments": {},
      "cell_type": "markdown",
      "metadata": {
        "id": "pfLG_ZdWK8q_"
      },
      "source": [
        "### Navalny news"
      ]
    },
    {
      "cell_type": "code",
      "execution_count": 156,
      "metadata": {},
      "outputs": [],
      "source": [
        "df_news = pd.read_csv('df_news.csv', index_col=0)\n",
        "\n",
        "def filter_navalny(df_test):\n",
        "  df_filtered_news = df_test[\n",
        "        (df_test['news'].str.contains('Навальн', case=False)) \n",
        "        & ~(df_test['news'].str.contains('Главное к утру|Главные события|Главные новости', case=True)) #убираем сводки/дайджесты из нескольких новостей\n",
        "        # & (df_test['news'].str.contains('укр|ВСУ|Азов', case=False))\n",
        "        ]\n",
        "  return df_filtered_news\n",
        "\n",
        "df_naval_news = filter_navalny(df_news) # run this to filter by key words on war & remove digests"
      ]
    },
    {
      "cell_type": "code",
      "execution_count": 162,
      "metadata": {},
      "outputs": [],
      "source": [
        "df_naval_news.reset_index(inplace=True)"
      ]
    },
    {
      "cell_type": "code",
      "execution_count": 163,
      "metadata": {},
      "outputs": [],
      "source": [
        "# Initiate UMAP\n",
        "umap_model = UMAP(n_neighbors=15, \n",
        "                  n_components=5, \n",
        "                  min_dist=0.0, \n",
        "                  metric='cosine', \n",
        "                  random_state=100)\n",
        "# Initiate BERTopic\n",
        "topic_model1 = BERTopic(umap_model=umap_model, language=\"russian\", calculate_probabilities=True)\n",
        "# Run BERTopic model\n",
        "topics1, probabilities1 = topic_model1.fit_transform(df_naval_news['news'])"
      ]
    },
    {
      "cell_type": "code",
      "execution_count": 164,
      "metadata": {},
      "outputs": [],
      "source": [
        "# topics\n",
        "df_naval_news['topic'] = topics1"
      ]
    },
    {
      "cell_type": "code",
      "execution_count": 165,
      "metadata": {},
      "outputs": [],
      "source": [
        "df_naval_news.to_excel('results/df_naval_news_w_topics.xls')"
      ]
    },
    {
      "cell_type": "code",
      "execution_count": 166,
      "metadata": {},
      "outputs": [],
      "source": [
        "# Topics by sources\n",
        "# topic_by_source_perc = pd.crosstab(df_war_news['topic'], df_war_news['source']\n",
        "#             , margins=True\n",
        "#             , normalize='columns'\n",
        "#             ).sort_values('All', ascending=False)\n",
        "\n",
        "# absolutes\n",
        "topic_by_source_abs_nav = pd.crosstab(df_naval_news['topic'], df_naval_news['source']\n",
        "            , margins=True\n",
        "            # , normalize='columns'\n",
        "            ).sort_values('All', ascending=False)"
      ]
    },
    {
      "cell_type": "code",
      "execution_count": 167,
      "metadata": {},
      "outputs": [],
      "source": [
        "topic_by_source_abs_nav.drop('All', axis=0, inplace=True)"
      ]
    },
    {
      "cell_type": "code",
      "execution_count": 168,
      "metadata": {},
      "outputs": [],
      "source": [
        "topic_by_source_abs_nav = pd.merge(topic_by_source_abs_nav, topic_model1.get_topic_info()[['Topic','Name']], left_index=True, right_on='Topic')"
      ]
    },
    {
      "cell_type": "code",
      "execution_count": 169,
      "metadata": {},
      "outputs": [],
      "source": [
        "topic_by_source_abs_nav.to_excel('results/topic_by_source_abs_nav.xls')"
      ]
    },
    {
      "cell_type": "code",
      "execution_count": 175,
      "metadata": {},
      "outputs": [
        {
          "data": {
            "text/html": [
              "<div>\n",
              "<style scoped>\n",
              "    .dataframe tbody tr th:only-of-type {\n",
              "        vertical-align: middle;\n",
              "    }\n",
              "\n",
              "    .dataframe tbody tr th {\n",
              "        vertical-align: top;\n",
              "    }\n",
              "\n",
              "    .dataframe thead th {\n",
              "        text-align: right;\n",
              "    }\n",
              "</style>\n",
              "<table border=\"1\" class=\"dataframe\">\n",
              "  <thead>\n",
              "    <tr style=\"text-align: right;\">\n",
              "      <th></th>\n",
              "      <th>bbc</th>\n",
              "      <th>med</th>\n",
              "      <th>ria</th>\n",
              "      <th>rt.</th>\n",
              "      <th>All</th>\n",
              "      <th>Topic</th>\n",
              "      <th>Name</th>\n",
              "      <th>alt</th>\n",
              "      <th>prop</th>\n",
              "      <th>prop_share</th>\n",
              "    </tr>\n",
              "  </thead>\n",
              "  <tbody>\n",
              "    <tr>\n",
              "      <th>1</th>\n",
              "      <td>29</td>\n",
              "      <td>43</td>\n",
              "      <td>1</td>\n",
              "      <td>18</td>\n",
              "      <td>91</td>\n",
              "      <td>0</td>\n",
              "      <td>0_навальный_быть_россия_который</td>\n",
              "      <td>72</td>\n",
              "      <td>19</td>\n",
              "      <td>0.208791</td>\n",
              "    </tr>\n",
              "    <tr>\n",
              "      <th>2</th>\n",
              "      <td>10</td>\n",
              "      <td>15</td>\n",
              "      <td>20</td>\n",
              "      <td>14</td>\n",
              "      <td>59</td>\n",
              "      <td>1</td>\n",
              "      <td>1_навальный_суд_год_колония</td>\n",
              "      <td>25</td>\n",
              "      <td>34</td>\n",
              "      <td>0.576271</td>\n",
              "    </tr>\n",
              "    <tr>\n",
              "      <th>0</th>\n",
              "      <td>4</td>\n",
              "      <td>6</td>\n",
              "      <td>0</td>\n",
              "      <td>2</td>\n",
              "      <td>12</td>\n",
              "      <td>-1</td>\n",
              "      <td>-1_навальный_суд_алехин_насилие</td>\n",
              "      <td>10</td>\n",
              "      <td>2</td>\n",
              "      <td>0.166667</td>\n",
              "    </tr>\n",
              "  </tbody>\n",
              "</table>\n",
              "</div>"
            ],
            "text/plain": [
              "   bbc  med  ria  rt.  All Topic                             Name  alt  prop  \\\n",
              "1   29   43    1   18   91     0  0_навальный_быть_россия_который   72    19   \n",
              "2   10   15   20   14   59     1      1_навальный_суд_год_колония   25    34   \n",
              "0    4    6    0    2   12    -1  -1_навальный_суд_алехин_насилие   10     2   \n",
              "\n",
              "   prop_share  \n",
              "1    0.208791  \n",
              "2    0.576271  \n",
              "0    0.166667  "
            ]
          },
          "execution_count": 175,
          "metadata": {},
          "output_type": "execute_result"
        }
      ],
      "source": [
        "topic_by_source_abs_nav"
      ]
    },
    {
      "cell_type": "code",
      "execution_count": 171,
      "metadata": {},
      "outputs": [],
      "source": [
        "topic_by_source_abs_nav['alt'] = topic_by_source_abs_nav[['bbc','med']].sum(axis=1)\n",
        "topic_by_source_abs_nav['prop'] = topic_by_source_abs_nav[['ria','rt.']].sum(axis=1)\n",
        "topic_by_source_abs_nav['prop_share'] = topic_by_source_abs_nav['prop'] / topic_by_source_abs_nav['All']"
      ]
    },
    {
      "cell_type": "code",
      "execution_count": 174,
      "metadata": {},
      "outputs": [
        {
          "data": {
            "text/html": [
              "<div>\n",
              "<style scoped>\n",
              "    .dataframe tbody tr th:only-of-type {\n",
              "        vertical-align: middle;\n",
              "    }\n",
              "\n",
              "    .dataframe tbody tr th {\n",
              "        vertical-align: top;\n",
              "    }\n",
              "\n",
              "    .dataframe thead th {\n",
              "        text-align: right;\n",
              "    }\n",
              "</style>\n",
              "<table border=\"1\" class=\"dataframe\">\n",
              "  <thead>\n",
              "    <tr style=\"text-align: right;\">\n",
              "      <th></th>\n",
              "      <th>bbc</th>\n",
              "      <th>med</th>\n",
              "      <th>ria</th>\n",
              "      <th>rt.</th>\n",
              "      <th>All</th>\n",
              "      <th>Topic</th>\n",
              "      <th>Name</th>\n",
              "      <th>alt</th>\n",
              "      <th>prop</th>\n",
              "      <th>prop_share</th>\n",
              "    </tr>\n",
              "  </thead>\n",
              "  <tbody>\n",
              "    <tr>\n",
              "      <th>0</th>\n",
              "      <td>4</td>\n",
              "      <td>6</td>\n",
              "      <td>0</td>\n",
              "      <td>2</td>\n",
              "      <td>12</td>\n",
              "      <td>-1</td>\n",
              "      <td>-1_навальный_суд_алехин_насилие</td>\n",
              "      <td>10</td>\n",
              "      <td>2</td>\n",
              "      <td>0.166667</td>\n",
              "    </tr>\n",
              "    <tr>\n",
              "      <th>1</th>\n",
              "      <td>29</td>\n",
              "      <td>43</td>\n",
              "      <td>1</td>\n",
              "      <td>18</td>\n",
              "      <td>91</td>\n",
              "      <td>0</td>\n",
              "      <td>0_навальный_быть_россия_который</td>\n",
              "      <td>72</td>\n",
              "      <td>19</td>\n",
              "      <td>0.208791</td>\n",
              "    </tr>\n",
              "    <tr>\n",
              "      <th>2</th>\n",
              "      <td>10</td>\n",
              "      <td>15</td>\n",
              "      <td>20</td>\n",
              "      <td>14</td>\n",
              "      <td>59</td>\n",
              "      <td>1</td>\n",
              "      <td>1_навальный_суд_год_колония</td>\n",
              "      <td>25</td>\n",
              "      <td>34</td>\n",
              "      <td>0.576271</td>\n",
              "    </tr>\n",
              "  </tbody>\n",
              "</table>\n",
              "</div>"
            ],
            "text/plain": [
              "   bbc  med  ria  rt.  All Topic                             Name  alt  prop  \\\n",
              "0    4    6    0    2   12    -1  -1_навальный_суд_алехин_насилие   10     2   \n",
              "1   29   43    1   18   91     0  0_навальный_быть_россия_который   72    19   \n",
              "2   10   15   20   14   59     1      1_навальный_суд_год_колония   25    34   \n",
              "\n",
              "   prop_share  \n",
              "0    0.166667  \n",
              "1    0.208791  \n",
              "2    0.576271  "
            ]
          },
          "execution_count": 174,
          "metadata": {},
          "output_type": "execute_result"
        }
      ],
      "source": [
        "threshold = 0.5\n",
        "min_sample = 10\n",
        "topic_by_source_abs_nav[((topic_by_source_abs_nav['prop_share'] < threshold) | (topic_by_source_abs_nav['prop_share'] > 1-threshold)) & (topic_by_source_abs_nav['All']>=min_sample)].sort_values('prop_share')"
      ]
    },
    {
      "cell_type": "code",
      "execution_count": 216,
      "metadata": {},
      "outputs": [
        {
          "data": {
            "text/plain": [
              "[('навальный', 0.07606961218422634),\n",
              " ('суд', 0.06397953670670499),\n",
              " ('алехин', 0.06152497775688406),\n",
              " ('насилие', 0.058428510801733224),\n",
              " ('год', 0.050582660244699755),\n",
              " ('заблокировать', 0.043187142837730015),\n",
              " ('требование', 0.043187142837730015),\n",
              " ('страница', 0.040202375875328114),\n",
              " ('процесс', 0.03984036631978142),\n",
              " ('дело', 0.039611538943944445)]"
            ]
          },
          "execution_count": 216,
          "metadata": {},
          "output_type": "execute_result"
        }
      ],
      "source": [
        "topic_model1.get_topic(-1)"
      ]
    },
    {
      "cell_type": "code",
      "execution_count": 234,
      "metadata": {},
      "outputs": [
        {
          "name": "stdout",
          "output_type": "stream",
          "text": [
            "пресс-секретарь навальный кира ярмыш объявить розыск попросить заменить ограничение свобода санитарный дело реальный срок обнаружить лето прошлое год ярмыш приговорить год ограничение свобода санитарный дело покинуть россия\n",
            " NEW \n",
            "гособвинение требовать приговорить алексей навальный год колония штраф млн тыс дело мошенничество оскорбление суд сообщать корреспондент новый газета\n",
            " NEW \n",
            "гособвинение уточнять требовать навальный год строгий режим\n",
            " NEW \n",
            "приговор алексей навальный огласить март политик выступить суд последний слово передавать корреспондент новый\n",
            " NEW \n",
            "судья рассматривать дело навальный повысить указ президент судья лефортовский районный суд маргарита котов назначить судья мосгорсуд уход новый пост должный быть завершить текущий дело тот число вынести приговор навальный\n",
            " NEW \n",
            "покровский колония начинаться оглашение приговор алексей навальный фото андрей карев новый газета\n",
            " NEW \n",
            "алексей навальный адвокат ольга михайлов вадим кобзев оглашение приговор дело мошенничество оскорбление суд обвинение просить навальный год колония строгий режим\n",
            " NEW \n",
            "алексей навальный приговорить год строгий режим дело мошенничество неуважение суд\n",
            " NEW \n",
            "реакция навальный приговор\n",
            " NEW \n",
            "адвокат навальный ольга михайлов вадим кобзев колония задержать полиция передавать наш корреспондент посадить автозак увезти\n",
            " NEW \n",
            "адвокат навальный отпустить овд сообщать\n",
            " NEW \n",
            "навальный приговорить год колония строгий режим март лефортовский суд москва приговорить алексей навальный год колония строгий режим дело мошенничество неуважение суд процесс идти москва колония владимирский область где навальный прошлое год отбывать наказание дело ива рош второй день суд россия признать днр четвёртый начало война украина неизбежно сказаться внимание общество процесс медиазона продолжать вести оттуда текстовый трансляция тот число свой блокировка начало март происходить суд\n",
            " NEW \n",
            "алексей навальный перевести колония строгий режим мелехово владимирский область информация появиться соцсеть политика мой приговор ещё вступить сила зэк колония строгий режим мелехово писать там оборудовать тюрьма тюрьма пресс-секретарь навальный кира ярмыш твиттер рассказать многочисленный свидетельство применение пытка этот колония\n",
            " NEW \n",
            "мосгорсуд оставить сила приговор навальный дело мошенничество неуважение суд год строгий режим суд рассматривать апелляционный жалоба оппозиционер приговор лефортовский суд который март приговорить год колония строгий режим\n",
            " NEW \n",
            "потерпеть исторический поражение этот тупой война который начать цель смысл навальный отправить колония год выступить суд антивоенный речь пересказ мосгорсуд май подтвердить приговор алексей навальный осудить год колония строгий режим дело мошенничество неуважение суд прения последний слово навальный высказаться процесс выступить война украина медуза публиковать пересказ выступление оппозиционер\n",
            " NEW \n",
            "прокурор запросить алексей навальный год лишение свобода дело мошенничество оскорбление суд штраф размер млн рубль\n",
            " NEW \n",
            "обвинение просить перевести алексей навальный колония общий колония строгий режим итог нынешний процесс сообщать риа новость\n",
            " NEW \n",
            "данный случай запросить срок являться предельно высокий поговорить политолог сергей карнаухов просьба прокуратура отправить навальный колония строгий режим год отметить судья мочь назначить наказание год быть запросить речь идти дело мошенничество оскорбление суд прокурор запросить назначение блогер штраф млн рубль процесс проходить территория владимирский область где отбывать наказание предыдущий преступление\n",
            " NEW \n",
            "суд признать навальный виновный дело мошенничество передавать наш корра\n",
            " NEW \n",
            "навальный признать виновный оскорбление судья\n",
            " NEW \n",
            "суд приговорить навальный год колония строгий режим признать виновный неуважение суд время процесс клевета ветеран великий отечественный война хищение млн рубль который собирать качество пожертвование организация признать экстремистский её деятельность запретить территория россия решение мосгорсуд\n",
            " NEW \n",
            "навальный согласный приговор пререкаться судья передавать наш корра зал суд\n",
            " NEW \n",
            "навальный слушать приговор напомнить приговорить год колония строгий режим штраф миллион рубль ограничение свобода год быть освобождение выходить дом определённый время выезжать город посещать массовый мероприятие менять место жительство разрешение быть отмечаться надзорный орган судить навальный уголовный дело мошенничество оскорбление суд изначально гособвинение запрашивать год лишение свобода\n",
            " NEW \n",
            "навальный учёт новый приговор предстоять отбыть колония ещё год заявить адвокат слово приговор дело мошенничество оскорбление суд быть обжаловать\n",
            " NEW \n",
            "адвокат навальный заседание суд подход журналист задержать\n",
            " NEW \n",
            "навальный смочь опровергнуть доказательство обвинение заявить юрист илья ремесло комментировать новый приговор блогер быть попытка дискредитировать свидетель потерпевший вопрос почему сходиться отчёт трата пожертвование почему жена подельник появиться десятка миллион рубль почему собирать деньга выборы быть судить иметь право выдвигаться ответить смочь пояснить ремесло юрист добавить процесс показать сторонник никакой особенный навальный являться сегодня суд признать навальный виновный мошенничество приговорить год колония строгий режим штраф размер млн рубль ограничение свобода год\n",
            " NEW \n",
            "быть грозить год лишение свобода юрист илья ремесло рассказать наш стрим другой уголовный дело который грозить навальный новый срок следующий быть дело создание экстремистский сообщество который возбудить там год лишение свобода грозить там ещё какой-то дело создание организация который покушаться право гражданин есть называть сектантский статья суд накануне признать навальный виновный мошенничество приговорить год колония строгий режим штраф размер млн рубль ограничение свобода год\n",
            " NEW \n",
            "более тыс жалоба год поступить еспча житель донбасс один быть рассмотреть интервью заявить руководитель общественный организация справедливый защита донецкий правозащитник адвокат виталий галахов европейский суд есть регламент соответствие который ситуация где угрожать жизнь здоровье гражданин должный рассматриваться первый очередь год война еспча вынести донбасс никакой решение сам нарушить свой регламент год срок рассмотрение еспча дело навальный составить год отмечать галахов год качество обеспечительный мера немедленный освобождение навальный срок принятие решение быть неделя добавить правозащитник полностью интервью читать сайт\n",
            " NEW \n",
            "мосгорсуд признать законный приговор алексей навальный год колония мошенничество неуважение суд\n",
            " NEW \n",
            "гособвинение запросить алексей навальный год лишение свобода штраф размер млн тыс рубль дело мошенничество оскорбление судья\n",
            " NEW \n",
            "оппозиционер алексей навальный признать виновный дело мошенничество ранее прокуратура просить политика год колония строгий режим сейчас суд выносить приговор\n",
            " NEW \n",
            "навальный приговорить год строгий режим штраф млн рубль дело мошенничество оскорбление суд\n",
            " NEW \n",
            "выход колония полицейский задержать адвокат навальный ольга михайлов вадим кобзев посадить автозак увезти произойти тот выполнить требование полиция освободить проезжий часть заседание уточнять корреспондент риа новость\n",
            " NEW \n",
            "год строгий режим весь срок который есть сейчас алексей навальный прибавление тот уже быть новый приговор алексей навальный объединить назначить данный момент наказание тот число предусмотренный приговор дело кировлеса ива рош рассказать би-би-си адвокат оппозиционер ольга михайлов резолютивный часть приговор следовать год срок совокупность весь наказание навальный время домашний арест пребывание сизый колония отбыть срок уже более год подробность тот произойти суд адвокат навальный ольга михайлов задержание адвокат вадим кобзев привезти местный овд петушинский район поместить актовый зал потом сказать журналист разойтись свободный довезти наш припарковать машина объяснить журналист мешать проезд протокол составлять приговор приговор навальный адвокат обещать вручить понедельник полностью понять мотивировочный часть время оглашение быть невозможно рассказать михайлов целое судья счесть правдивый показание потерпевший навальный довод защита отвергнуть почти полностью переписать приговор обвинительный заключение говорить адвокат резолютивный часть приговор следовать год срок совокупность весь наказание предусмотреть тот число приговор дело кировлеса ива рош навальный время домашний арест пребывание сизый колония отбыть срок уже более год строгий режим колония назначить потому один 4-й эпизод мошенничество который признать виновный навальный быть окончить отмена условный осуждение дело ива рош поэтому суд счесть рецидив обжалование быть обжаловать приговор сказать михайлов отметить только уважение суд защита представить весь свидетель подтвердить жертвовать средство правый дело желать выступить суд быть несколько раз потерпевший дело весь суд мнение защита стать ясно сам дело потерпевший являться адвокат михайлов отметить время суд защита разрешать пользоваться диктофон сей пора выдать протокол защитник теперь предстоять сверять текст протокол аудиопротокол приносить замечание объединение приговор наказание предыдущий дело навальный противоречить международный право март комитет министр совет европа призвать россия исполнить решение еспча отменить приговор навальный подчёркивать защита россия обязать исполнять решение еспча выход совет европа\n",
            " NEW \n",
            "запрет проект навальный признать законный второй кассационный суд общий юрисдикция признать законный запрет ликвидация экстремистский основать алексей навальный ранее признанный россия иноагент фонд борьба коррупция фонд защита право гражданин движение штаб навальный интерфакс сообщить правозащитный проект первый отдел адвокат который представлять организация кассационный суд оставить изменение решение мосгорсуд июнь год первый апелляционный суд общий юрисдикция август год сегодняшний решение быть подготовить жалоба верховный суд заявить правозащитник этот неделя навальный увеличить срок лишение свобода год соратник привлекаться уголовный ответственность объявить розыск значительный часть покинуть россия ещё февраль начаться российский вторжение украина\n",
            " NEW \n",
            "алексей навальный который март приговорить год колония строгий режим дело мошенничество сообщить перевести мелехово владимирский область находиться примерно километр где сейчас находиться навальный сми неоднократно сообщать факт жестокий обращение заключить пытка заключить применяться многий российский колония мелехово чудовищный место такой безумный мерка заявить соратница навальный кира ярмыш\n",
            " NEW \n",
            "оппозиционер алексей навальный который ранее суд приговорить год колония строгий режим дело мошенничество неуважение суд выступать мосгорсуд видеосвязь заседание рассмотрение апелляционный жалоба приговор время свой последний слово навальный высказаться война украина\n",
            " NEW \n",
            "московский городской суд отказать удовлетворение апелляционный жалоба оппозиционер алексей навальный осудить год дело мошенничество неуважение суд означать приговор вступить сила навальный должный перевести колония строгий режим находиться колония общий режим\n",
            " NEW \n",
            "мстительность отношение навальный никакой реальный цель очевидный повторный суд должный быть задумка тот организовать ухудшить состояние навальный увеличить срок изменить условие пребывание прокомментировать приговор политолог глеб павловский никакой политический смысл быть потому навальный радикально удалённый политический жизнь видеть только мстительность отношение никакой реальный цель власть возникнуть желание добавочно действовать мочь делать любой место навальный этот военный ситуация сохраняться хороший время консервировать новый срок новый место заключение ничего менять сказать павловский би-би-си ощутимо желание сделать больно навальный уметь справляться преодолевать поэтому здесь существенный изменение жизнь изменение который ощутить семья адвокат перевод колония строгий режим считать политолог\n",
            " NEW \n",
            "потерпевший новый дело навальный мошенничество попросить отозвать свой иск взыскание тыс рубль передавать корреспондент риа новость\n",
            " NEW \n",
            "прокурор просить дать навальный совокупность год колония дело мошенничество оскорбление суд назначить штраф млн рубль\n",
            " NEW \n",
            "обвинение просить перевести навальный колония общий строгий режим итог нынешний процесс передавать корреспондент риа новость\n",
            " NEW \n",
            "суд огласить приговор новый дело отношение навальный мошенничество неуважение суд заседание март\n",
            " NEW \n",
            "суд выносить навальный обвинительный приговор дело мошенничество оскорбление судья\n",
            " NEW \n",
            "суд признать навальный виновный оскорбление суд передавать корреспондент риа новость\n",
            " NEW \n",
            "заседание суд новый иск навальный отложить пятница сейчас оглашаться приговор другой дело сообщить риа новость суд\n",
            " NEW \n",
            "суд приговорить навальный год строгий режим дело мошенничество оскорбление суд передавать корреспондент риа новость\n",
            " NEW \n",
            "суд назначить навальный штраф млн рубль год ограничение свобода передавать корреспондент риа новость\n",
            " NEW \n",
            "кадр суд дело навальный\n",
            " NEW \n",
            "приговор навальный дело мошенничество оскорбление суд быть обжаловать говорить адвокат\n",
            " NEW \n",
            "навальный учёт новый приговор предстоять отбыть колония ещё год говорить адвокат\n",
            " NEW \n",
            "адвокат навальный михайлов кобзев заседание суд пресс-подход увезти автозак передавать корреспондент риа новость\n",
            " NEW \n",
            "адвокат навальный увезти автозак тот выполнить требование полиция освободить проезжий часть заседание сообщать корреспондент риа новость\n",
            " NEW \n",
            "суд утвердить решение нижестоящий инстанция отказать навальный удовлетворение иск владимирский колония пользование деньга зачислять лицевой счёт договор сми\n",
            " NEW \n",
            "мосгорсуд зарегистрировать жалоба навальный 9-летний приговор\n",
            " NEW \n",
            "верховный суд отклонить жалоба навальный дело клевета ветеран сообщить риа новость пресс-служба\n",
            " NEW \n",
            "мосгорсуд оставить сила приговор навальный год колония мошенничество неуважение суд передавать корреспондент риа новость\n",
            " NEW \n",
            "навальный отказаться выходить связь владимирский суд сообщить риа новость пресс-служба\n",
            " NEW \n",
            "супруг навальный приехать муж который руководство колония разрешить длительный свидание родственник посетить только родитель сообщить источник риа новость\n"
          ]
        }
      ],
      "source": [
        "print('\\n NEW \\n'.join(df_naval_news[df_naval_news['topic'] == 1]['news']))"
      ]
    },
    {
      "attachments": {},
      "cell_type": "markdown",
      "metadata": {},
      "source": [
        "### Mariupol news"
      ]
    },
    {
      "cell_type": "code",
      "execution_count": 212,
      "metadata": {},
      "outputs": [
        {
          "data": {
            "text/plain": [
              "153"
            ]
          },
          "execution_count": 212,
          "metadata": {},
          "output_type": "execute_result"
        }
      ],
      "source": [
        "df_news['news'].str.contains('главный утро|главный событие|главный новость').sum()"
      ]
    },
    {
      "cell_type": "code",
      "execution_count": 214,
      "metadata": {},
      "outputs": [
        {
          "data": {
            "text/html": [
              "<div>\n",
              "<style scoped>\n",
              "    .dataframe tbody tr th:only-of-type {\n",
              "        vertical-align: middle;\n",
              "    }\n",
              "\n",
              "    .dataframe tbody tr th {\n",
              "        vertical-align: top;\n",
              "    }\n",
              "\n",
              "    .dataframe thead th {\n",
              "        text-align: right;\n",
              "    }\n",
              "</style>\n",
              "<table border=\"1\" class=\"dataframe\">\n",
              "  <thead>\n",
              "    <tr style=\"text-align: right;\">\n",
              "      <th></th>\n",
              "      <th>index</th>\n",
              "      <th>id</th>\n",
              "      <th>date</th>\n",
              "      <th>news</th>\n",
              "      <th>source</th>\n",
              "    </tr>\n",
              "  </thead>\n",
              "  <tbody>\n",
              "    <tr>\n",
              "      <th>20</th>\n",
              "      <td>1895</td>\n",
              "      <td>51686</td>\n",
              "      <td>2022-02-24 06:38:06</td>\n",
              "      <td>соцсеть публиковать видео стрельба российский ...</td>\n",
              "      <td>med</td>\n",
              "    </tr>\n",
              "    <tr>\n",
              "      <th>31</th>\n",
              "      <td>1906</td>\n",
              "      <td>51697</td>\n",
              "      <td>2022-02-24 07:03:15</td>\n",
              "      <td>взрыв весь приграничный город украина киев оде...</td>\n",
              "      <td>med</td>\n",
              "    </tr>\n",
              "    <tr>\n",
              "      <th>85</th>\n",
              "      <td>1961</td>\n",
              "      <td>51752</td>\n",
              "      <td>2022-02-24 10:54:47</td>\n",
              "      <td>мвд украина сообщать погибнуть результат обстр...</td>\n",
              "      <td>med</td>\n",
              "    </tr>\n",
              "    <tr>\n",
              "      <th>110</th>\n",
              "      <td>1986</td>\n",
              "      <td>51777</td>\n",
              "      <td>2022-02-24 12:56:15</td>\n",
              "      <td>генштаб сообщить возвращение контроль мариупол...</td>\n",
              "      <td>med</td>\n",
              "    </tr>\n",
              "    <tr>\n",
              "      <th>168</th>\n",
              "      <td>2047</td>\n",
              "      <td>51841</td>\n",
              "      <td>2022-02-24 17:51:04</td>\n",
              "      <td>мариуполь говорить русский украинский злой объ...</td>\n",
              "      <td>med</td>\n",
              "    </tr>\n",
              "    <tr>\n",
              "      <th>...</th>\n",
              "      <td>...</td>\n",
              "      <td>...</td>\n",
              "      <td>...</td>\n",
              "      <td>...</td>\n",
              "      <td>...</td>\n",
              "    </tr>\n",
              "    <tr>\n",
              "      <th>46767</th>\n",
              "      <td>27439</td>\n",
              "      <td>164987</td>\n",
              "      <td>2022-05-27 09:01:01</td>\n",
              "      <td>порт мариуполь быть задействовать полный объём...</td>\n",
              "      <td>ria</td>\n",
              "    </tr>\n",
              "    <tr>\n",
              "      <th>46769</th>\n",
              "      <td>27441</td>\n",
              "      <td>164989</td>\n",
              "      <td>2022-05-27 09:09:25</td>\n",
              "      <td>пансионат скадовск херсонский область готовый ...</td>\n",
              "      <td>ria</td>\n",
              "    </tr>\n",
              "    <tr>\n",
              "      <th>46770</th>\n",
              "      <td>27442</td>\n",
              "      <td>164990</td>\n",
              "      <td>2022-05-27 09:15:20</td>\n",
              "      <td>днр планировать восстановить аэропорт донецк м...</td>\n",
              "      <td>ria</td>\n",
              "    </tr>\n",
              "    <tr>\n",
              "      <th>46775</th>\n",
              "      <td>27447</td>\n",
              "      <td>164995</td>\n",
              "      <td>2022-05-27 09:47:30</td>\n",
              "      <td>житель мариуполь хотеть восстанавливать завод ...</td>\n",
              "      <td>ria</td>\n",
              "    </tr>\n",
              "    <tr>\n",
              "      <th>46811</th>\n",
              "      <td>27483</td>\n",
              "      <td>165031</td>\n",
              "      <td>2022-05-27 13:25:20</td>\n",
              "      <td>бастрыкин мариуполь провести совещание штаб ра...</td>\n",
              "      <td>ria</td>\n",
              "    </tr>\n",
              "  </tbody>\n",
              "</table>\n",
              "<p>3560 rows × 5 columns</p>\n",
              "</div>"
            ],
            "text/plain": [
              "       index      id                 date  \\\n",
              "20      1895   51686  2022-02-24 06:38:06   \n",
              "31      1906   51697  2022-02-24 07:03:15   \n",
              "85      1961   51752  2022-02-24 10:54:47   \n",
              "110     1986   51777  2022-02-24 12:56:15   \n",
              "168     2047   51841  2022-02-24 17:51:04   \n",
              "...      ...     ...                  ...   \n",
              "46767  27439  164987  2022-05-27 09:01:01   \n",
              "46769  27441  164989  2022-05-27 09:09:25   \n",
              "46770  27442  164990  2022-05-27 09:15:20   \n",
              "46775  27447  164995  2022-05-27 09:47:30   \n",
              "46811  27483  165031  2022-05-27 13:25:20   \n",
              "\n",
              "                                                    news source  \n",
              "20     соцсеть публиковать видео стрельба российский ...    med  \n",
              "31     взрыв весь приграничный город украина киев оде...    med  \n",
              "85     мвд украина сообщать погибнуть результат обстр...    med  \n",
              "110    генштаб сообщить возвращение контроль мариупол...    med  \n",
              "168    мариуполь говорить русский украинский злой объ...    med  \n",
              "...                                                  ...    ...  \n",
              "46767  порт мариуполь быть задействовать полный объём...    ria  \n",
              "46769  пансионат скадовск херсонский область готовый ...    ria  \n",
              "46770  днр планировать восстановить аэропорт донецк м...    ria  \n",
              "46775  житель мариуполь хотеть восстанавливать завод ...    ria  \n",
              "46811  бастрыкин мариуполь провести совещание штаб ра...    ria  \n",
              "\n",
              "[3560 rows x 5 columns]"
            ]
          },
          "execution_count": 214,
          "metadata": {},
          "output_type": "execute_result"
        }
      ],
      "source": [
        "df_news[(df_news['news'].str.contains('мариупол|азовстал')) & ~(df_news['news'].str.contains('главный утро|главный событие|главный новость'))]"
      ]
    },
    {
      "attachments": {},
      "cell_type": "markdown",
      "metadata": {},
      "source": [
        "### Bucha news"
      ]
    },
    {
      "cell_type": "code",
      "execution_count": 215,
      "metadata": {},
      "outputs": [
        {
          "data": {
            "text/html": [
              "<div>\n",
              "<style scoped>\n",
              "    .dataframe tbody tr th:only-of-type {\n",
              "        vertical-align: middle;\n",
              "    }\n",
              "\n",
              "    .dataframe tbody tr th {\n",
              "        vertical-align: top;\n",
              "    }\n",
              "\n",
              "    .dataframe thead th {\n",
              "        text-align: right;\n",
              "    }\n",
              "</style>\n",
              "<table border=\"1\" class=\"dataframe\">\n",
              "  <thead>\n",
              "    <tr style=\"text-align: right;\">\n",
              "      <th></th>\n",
              "      <th>index</th>\n",
              "      <th>id</th>\n",
              "      <th>date</th>\n",
              "      <th>news</th>\n",
              "      <th>source</th>\n",
              "    </tr>\n",
              "  </thead>\n",
              "  <tbody>\n",
              "    <tr>\n",
              "      <th>343</th>\n",
              "      <td>2223</td>\n",
              "      <td>52018</td>\n",
              "      <td>2022-02-25 16:58:21</td>\n",
              "      <td>война украина второй день анализировать ситуац...</td>\n",
              "      <td>med</td>\n",
              "    </tr>\n",
              "    <tr>\n",
              "      <th>626</th>\n",
              "      <td>2538</td>\n",
              "      <td>52338</td>\n",
              "      <td>2022-02-27 09:49:28</td>\n",
              "      <td>город буча километр киев трасса заметить росси...</td>\n",
              "      <td>med</td>\n",
              "    </tr>\n",
              "    <tr>\n",
              "      <th>633</th>\n",
              "      <td>2545</td>\n",
              "      <td>52345</td>\n",
              "      <td>2022-02-27 10:58:18</td>\n",
              "      <td>данные украинский гсчс результат попадание сна...</td>\n",
              "      <td>med</td>\n",
              "    </tr>\n",
              "    <tr>\n",
              "      <th>700</th>\n",
              "      <td>2622</td>\n",
              "      <td>52422</td>\n",
              "      <td>2022-02-27 17:21:53</td>\n",
              "      <td>радио свобода аэропорт гостомель киев быть сже...</td>\n",
              "      <td>med</td>\n",
              "    </tr>\n",
              "    <tr>\n",
              "      <th>1004</th>\n",
              "      <td>2929</td>\n",
              "      <td>52737</td>\n",
              "      <td>2022-03-01 10:03:14</td>\n",
              "      <td>итог пятый день война украина тяжёлый артиллер...</td>\n",
              "      <td>med</td>\n",
              "    </tr>\n",
              "    <tr>\n",
              "      <th>...</th>\n",
              "      <td>...</td>\n",
              "      <td>...</td>\n",
              "      <td>...</td>\n",
              "      <td>...</td>\n",
              "      <td>...</td>\n",
              "    </tr>\n",
              "    <tr>\n",
              "      <th>44646</th>\n",
              "      <td>25153</td>\n",
              "      <td>162689</td>\n",
              "      <td>2022-05-10 22:05:46</td>\n",
              "      <td>76-й день спецоперация россия украина главное ...</td>\n",
              "      <td>ria</td>\n",
              "    </tr>\n",
              "    <tr>\n",
              "      <th>45111</th>\n",
              "      <td>25663</td>\n",
              "      <td>163202</td>\n",
              "      <td>2022-05-13 19:20:57</td>\n",
              "      <td>сотня житель мали выйти акция протест потребов...</td>\n",
              "      <td>ria</td>\n",
              "    </tr>\n",
              "    <tr>\n",
              "      <th>45147</th>\n",
              "      <td>25701</td>\n",
              "      <td>163240</td>\n",
              "      <td>2022-05-14 10:10:00</td>\n",
              "      <td>глава французский гуманитарный ассоциация помо...</td>\n",
              "      <td>ria</td>\n",
              "    </tr>\n",
              "    <tr>\n",
              "      <th>46412</th>\n",
              "      <td>27061</td>\n",
              "      <td>164608</td>\n",
              "      <td>2022-05-25 09:56:52</td>\n",
              "      <td>техасский резня такой заголовок трельба америк...</td>\n",
              "      <td>ria</td>\n",
              "    </tr>\n",
              "    <tr>\n",
              "      <th>46668</th>\n",
              "      <td>27333</td>\n",
              "      <td>164880</td>\n",
              "      <td>2022-05-26 14:14:32</td>\n",
              "      <td>польский депутат корвин-микк получить выговор ...</td>\n",
              "      <td>ria</td>\n",
              "    </tr>\n",
              "  </tbody>\n",
              "</table>\n",
              "<p>675 rows × 5 columns</p>\n",
              "</div>"
            ],
            "text/plain": [
              "       index      id                 date  \\\n",
              "343     2223   52018  2022-02-25 16:58:21   \n",
              "626     2538   52338  2022-02-27 09:49:28   \n",
              "633     2545   52345  2022-02-27 10:58:18   \n",
              "700     2622   52422  2022-02-27 17:21:53   \n",
              "1004    2929   52737  2022-03-01 10:03:14   \n",
              "...      ...     ...                  ...   \n",
              "44646  25153  162689  2022-05-10 22:05:46   \n",
              "45111  25663  163202  2022-05-13 19:20:57   \n",
              "45147  25701  163240  2022-05-14 10:10:00   \n",
              "46412  27061  164608  2022-05-25 09:56:52   \n",
              "46668  27333  164880  2022-05-26 14:14:32   \n",
              "\n",
              "                                                    news source  \n",
              "343    война украина второй день анализировать ситуац...    med  \n",
              "626    город буча километр киев трасса заметить росси...    med  \n",
              "633    данные украинский гсчс результат попадание сна...    med  \n",
              "700    радио свобода аэропорт гостомель киев быть сже...    med  \n",
              "1004   итог пятый день война украина тяжёлый артиллер...    med  \n",
              "...                                                  ...    ...  \n",
              "44646  76-й день спецоперация россия украина главное ...    ria  \n",
              "45111  сотня житель мали выйти акция протест потребов...    ria  \n",
              "45147  глава французский гуманитарный ассоциация помо...    ria  \n",
              "46412  техасский резня такой заголовок трельба америк...    ria  \n",
              "46668  польский депутат корвин-микк получить выговор ...    ria  \n",
              "\n",
              "[675 rows x 5 columns]"
            ]
          },
          "execution_count": 215,
          "metadata": {},
          "output_type": "execute_result"
        }
      ],
      "source": [
        "df_news[(df_news['news'].str.contains('буча')) & ~(df_news['news'].str.contains('главный утро|главный событие|главный новость'))]"
      ]
    }
  ],
  "metadata": {
    "colab": {
      "provenance": []
    },
    "kernelspec": {
      "display_name": "bertopic",
      "language": "python",
      "name": "python3"
    },
    "language_info": {
      "codemirror_mode": {
        "name": "ipython",
        "version": 3
      },
      "file_extension": ".py",
      "mimetype": "text/x-python",
      "name": "python",
      "nbconvert_exporter": "python",
      "pygments_lexer": "ipython3",
      "version": "3.10.9"
    },
    "vscode": {
      "interpreter": {
        "hash": "ff749544b382d6f20ff5d11d95f17e1626a6c219bd5d416761a0865ef9b4e52d"
      }
    }
  },
  "nbformat": 4,
  "nbformat_minor": 0
}
